{
 "cells": [
  {
   "cell_type": "markdown",
   "metadata": {
    "deletable": false,
    "editable": false,
    "nbgrader": {
     "checksum": "55c83bc6aaf01a61efc9a6c8fe937eb4",
     "grade": false,
     "grade_id": "Intro_text",
     "locked": true,
     "schema_version": 1,
     "solution": false
    }
   },
   "source": [
    "## Problem 3 - Data analysis (5 points)\n",
    "\n",
    "In this problem the aim is to understand the differences between temperatures in Helsinki Kumpula and Rovaniemi. First, you need to import the csv files generated in the previous problem for `kumpula` and `rovaniemi`."
   ]
  },
  {
   "cell_type": "code",
   "execution_count": 1,
   "metadata": {
    "deletable": false,
    "nbgrader": {
     "checksum": "988845921e1467790d136a8aafbdcfb1",
     "grade": false,
     "grade_id": "read_data",
     "locked": false,
     "schema_version": 1,
     "solution": true
    }
   },
   "outputs": [
    {
     "data": {
      "text/html": [
       "<div>\n",
       "<style scoped>\n",
       "    .dataframe tbody tr th:only-of-type {\n",
       "        vertical-align: middle;\n",
       "    }\n",
       "\n",
       "    .dataframe tbody tr th {\n",
       "        vertical-align: top;\n",
       "    }\n",
       "\n",
       "    .dataframe thead th {\n",
       "        text-align: right;\n",
       "    }\n",
       "</style>\n",
       "<table border=\"1\" class=\"dataframe\">\n",
       "  <thead>\n",
       "    <tr style=\"text-align: right;\">\n",
       "      <th></th>\n",
       "      <th>USAF</th>\n",
       "      <th>YR--MODAHRMN</th>\n",
       "      <th>TEMP</th>\n",
       "      <th>MAX</th>\n",
       "      <th>MIN</th>\n",
       "      <th>Celsius</th>\n",
       "    </tr>\n",
       "  </thead>\n",
       "  <tbody>\n",
       "    <tr>\n",
       "      <td>0</td>\n",
       "      <td>28450</td>\n",
       "      <td>201705010000</td>\n",
       "      <td>31</td>\n",
       "      <td>***</td>\n",
       "      <td>***</td>\n",
       "      <td>0</td>\n",
       "    </tr>\n",
       "    <tr>\n",
       "      <td>1</td>\n",
       "      <td>28450</td>\n",
       "      <td>201705010020</td>\n",
       "      <td>30</td>\n",
       "      <td>***</td>\n",
       "      <td>***</td>\n",
       "      <td>-1</td>\n",
       "    </tr>\n",
       "    <tr>\n",
       "      <td>2</td>\n",
       "      <td>28450</td>\n",
       "      <td>201705010050</td>\n",
       "      <td>30</td>\n",
       "      <td>***</td>\n",
       "      <td>***</td>\n",
       "      <td>-1</td>\n",
       "    </tr>\n",
       "    <tr>\n",
       "      <td>3</td>\n",
       "      <td>28450</td>\n",
       "      <td>201705010100</td>\n",
       "      <td>31</td>\n",
       "      <td>***</td>\n",
       "      <td>***</td>\n",
       "      <td>0</td>\n",
       "    </tr>\n",
       "    <tr>\n",
       "      <td>4</td>\n",
       "      <td>28450</td>\n",
       "      <td>201705010120</td>\n",
       "      <td>30</td>\n",
       "      <td>***</td>\n",
       "      <td>***</td>\n",
       "      <td>-1</td>\n",
       "    </tr>\n",
       "  </tbody>\n",
       "</table>\n",
       "</div>"
      ],
      "text/plain": [
       "    USAF  YR--MODAHRMN  TEMP  MAX  MIN  Celsius\n",
       "0  28450  201705010000    31  ***  ***        0\n",
       "1  28450  201705010020    30  ***  ***       -1\n",
       "2  28450  201705010050    30  ***  ***       -1\n",
       "3  28450  201705010100    31  ***  ***        0\n",
       "4  28450  201705010120    30  ***  ***       -1"
      ]
     },
     "execution_count": 1,
     "metadata": {},
     "output_type": "execute_result"
    }
   ],
   "source": [
    "# YOUR CODE HERE\n",
    "# raise NotImplementedError()\n",
    "\n",
    "# import module require\n",
    "import pandas as pd \n",
    "\n",
    "kumpula = pd.read_csv(r\"C:\\Users\\gcolm\\Documents\\courses\\online\\online_courses\\others\\Geo_python_course\\Geo_python_exercises\\exercise_5\\Kumpula_temps_May_Aug_2017.csv\")\n",
    "kumpula.head()\n",
    "\n",
    "rovaniemi = pd.read_csv(r\"C:\\Users\\gcolm\\Documents\\courses\\online\\online_courses\\others\\Geo_python_course\\Geo_python_exercises\\exercise_5\\Rovaniemi_temps_May_Aug_2017.csv\")\n",
    "rovaniemi.head()"
   ]
  },
  {
   "cell_type": "markdown",
   "metadata": {},
   "source": [
    "**What was the median temperature during the observed period in:**\n",
    "  - Helsinki Kumpula? (store the answer in a variable `kumpula_median`\n",
    "  - Rovaniemi? (store the answer in a variable `rovaniemi_median`"
   ]
  },
  {
   "cell_type": "code",
   "execution_count": 2,
   "metadata": {
    "deletable": false,
    "nbgrader": {
     "checksum": "4896182198885bf395f41c5df2da6938",
     "grade": false,
     "grade_id": "median",
     "locked": false,
     "schema_version": 1,
     "solution": true
    }
   },
   "outputs": [],
   "source": [
    "\n",
    "# YOUR CODE HERE\n",
    "# raise NotImplementedError()\n",
    "kumpula_median= kumpula['TEMP'].median()\n",
    "rovaniemi_median = rovaniemi['TEMP'].median()"
   ]
  },
  {
   "cell_type": "code",
   "execution_count": 3,
   "metadata": {
    "deletable": false,
    "editable": false,
    "nbgrader": {
     "checksum": "6785b4e357cc61649586e20528792448",
     "grade": true,
     "grade_id": "median_test",
     "locked": true,
     "points": 1,
     "schema_version": 1,
     "solution": false
    }
   },
   "outputs": [
    {
     "name": "stdout",
     "output_type": "stream",
     "text": [
      "Kumpula median:  58.0\n",
      "Rovaniemi median:  52.0\n"
     ]
    }
   ],
   "source": [
    "#Print the answer:\n",
    "print(\"Kumpula median: \", kumpula_median)\n",
    "print(\"Rovaniemi median: \", rovaniemi_median)\n"
   ]
  },
  {
   "cell_type": "markdown",
   "metadata": {},
   "source": [
    "The median temperatures above consider data from quite long period of time (May-Aug), hence the differences might not be so clear.\n",
    "**Let's find out what were the mean temperatures in May and June in Kumpula and Rovaniemi:**\n",
    "\n",
    "- Select from `rovaniemi` and `kumpula` DataFrames such rows where values of the ``YR--MODAHRMN`` column are from May 2017\n",
    "and assign them into variables `rovaniemi_may` and `kumpula_may` (see hints for help)\n",
    "- Repeat the procedure for the month of June and assign those values into variables `rovaniemi_june` and `kumpula_june`\n",
    "\n",
    "\n"
   ]
  },
  {
   "cell_type": "code",
   "execution_count": 4,
   "metadata": {
    "deletable": false,
    "nbgrader": {
     "checksum": "36acf0aa4798a9da64b35ab595a66aad",
     "grade": false,
     "grade_id": "may",
     "locked": false,
     "schema_version": 1,
     "solution": true
    },
    "scrolled": true
   },
   "outputs": [],
   "source": [
    "#Part 2\n",
    "#Take subset of the Kumpula and Rovaniemi data with the 5th and 6th month\n",
    "# May\n",
    "kumpula_may = kumpula.loc[(kumpula['YR--MODAHRMN']>=201705010000) & (kumpula['YR--MODAHRMN']<=201705312350)]\n",
    "rovaniemi_may = rovaniemi.loc[(rovaniemi['YR--MODAHRMN']>=201705010000) & (rovaniemi['YR--MODAHRMN']<=201705312350)]\n",
    "# Jun\n",
    "kumpula_jun = kumpula.loc[(kumpula['YR--MODAHRMN']>=201706010000) & (kumpula['YR--MODAHRMN']<=201706302350)]\n",
    "rovaniemi_jun = rovaniemi.loc[(rovaniemi['YR--MODAHRMN']>=201706010000) & (rovaniemi['YR--MODAHRMN']<=201706302350)]\n",
    "\n",
    "# YOUR CODE HERE\n",
    "# raise NotImplementedError()\n"
   ]
  },
  {
   "cell_type": "code",
   "execution_count": 5,
   "metadata": {},
   "outputs": [
    {
     "name": "stdout",
     "output_type": "stream",
     "text": [
      "    USAF  YR--MODAHRMN  TEMP  MAX  MIN  Celsius\n",
      "0  29980  201705010000    37  ***  ***        2\n",
      "1  29980  201705010100    37  ***  ***        2\n",
      "2  29980  201705010200    37  ***  ***        2\n",
      "3  29980  201705010300    37  ***  ***        2\n",
      "4  29980  201705010400    39  ***  ***        3\n"
     ]
    }
   ],
   "source": [
    "print(kumpula_may.head())"
   ]
  },
  {
   "cell_type": "code",
   "execution_count": null,
   "metadata": {
    "collapsed": true,
    "deletable": false,
    "editable": false,
    "jupyter": {
     "outputs_hidden": true
    },
    "nbgrader": {
     "checksum": "2ad4e657b244790478bef78dfea00460",
     "grade": true,
     "grade_id": "May_and_June_test",
     "locked": true,
     "points": 2,
     "schema_version": 1,
     "solution": false
    }
   },
   "outputs": [],
   "source": []
  },
  {
   "cell_type": "markdown",
   "metadata": {},
   "source": [
    "**Print the mean, min and max temperatures for both places in May and June** using the new subset dataframes (`rovaniemi_may`,`kumpula_may`,`rovaniemi_june` and `kumpula_june`)."
   ]
  },
  {
   "cell_type": "code",
   "execution_count": 9,
   "metadata": {
    "deletable": false,
    "nbgrader": {
     "checksum": "6baf90fd0b9b0f0638cc1da4d3ee59b3",
     "grade": true,
     "grade_id": "May_and_June_stats",
     "locked": false,
     "points": 1,
     "schema_version": 1,
     "solution": true
    }
   },
   "outputs": [
    {
     "name": "stdout",
     "output_type": "stream",
     "text": [
      "The min temp in Kumpula is: 37°F, the max temp is: 75°F, and the mean temp is: 56.74°F\n",
      "The min temp in Rovaniemi is: 30°F, the max temp is: 74°F and the mean temp is: 51.83°F\n"
     ]
    }
   ],
   "source": [
    "# YOUR CODE HERE\n",
    "# raise NotImplementedError()\n",
    "\n",
    "# kumpula_may\n",
    "kum_mean = kumpula_may['TEMP'].mean()\n",
    "kum_min = kumpula_may['TEMP'].min()\n",
    "kum_max = kumpula_may['TEMP'].max()\n",
    "\n",
    "# rovaniemi_may\n",
    "rova_mean = rovaniemi_may['TEMP'].mean()\n",
    "rova_min = rovaniemi_may['TEMP'].min()\n",
    "rova_max = rovaniemi_may['TEMP'].max()\n",
    "\n",
    "# kumpula_may\n",
    "kum_mean = kumpula_jun['TEMP'].mean()\n",
    "kum_min = kumpula_jun['TEMP'].min()\n",
    "kum_max = kumpula_jun['TEMP'].max()\n",
    "\n",
    "# rovaniemi_may\n",
    "rova_mean = rovaniemi_jun['TEMP'].mean()\n",
    "rova_min = rovaniemi_jun['TEMP'].min()\n",
    "rova_max = rovaniemi_jun['TEMP'].max()\n",
    "\n",
    "# print statements\n",
    "print(f'The min temp in Kumpula is: {kum_min}°F, the max temp is: {kum_max}°F, and the mean temp is: {round(kum_mean,2)}°F')\n",
    "print(f'The min temp in Rovaniemi is: {rova_min}°F, the max temp is: {rova_max}°F and the mean temp is: {round(rova_mean,2)}°F')"
   ]
  },
  {
   "cell_type": "markdown",
   "metadata": {
    "deletable": false,
    "editable": false,
    "nbgrader": {
     "checksum": "264818ca8a5c85b639d76c93692fd265",
     "grade": false,
     "grade_id": "comments",
     "locked": true,
     "schema_version": 1,
     "solution": false
    }
   },
   "source": [
    "In the spirit of [knowledge discovery](http://researcher.ibm.com/researcher/view_group.php?id=144), let's briefly interpret the results of this data analysis. Justify your answers to the following questions based on the data analysis results from this exercise (edit this markdown cell to add your answers):\n",
    "\n",
    "- Does there seem to be large difference in temperatures between the months?\n",
    "- Is Rovaniemi much colder place than Kumpula?\n",
    "\n",
    "Finally:\n",
    "- Check that you have commented your code\n",
    "- Check that you have used the suggested names for variables in this exercise (important for grading!)\n",
    "- Commit and push your changes to github"
   ]
  },
  {
   "cell_type": "markdown",
   "metadata": {
    "deletable": false,
    "nbgrader": {
     "checksum": "4769d25d38b35094a0ccb5445d47980a",
     "grade": true,
     "grade_id": "comments_test",
     "locked": false,
     "points": 1,
     "schema_version": 1,
     "solution": true
    }
   },
   "source": [
    "YOUR ANSWER HERE"
   ]
  },
  {
   "cell_type": "markdown",
   "metadata": {
    "deletable": false,
    "editable": false,
    "nbgrader": {
     "checksum": "2f9dd700920383e132a735db7df9f39d",
     "grade": false,
     "grade_id": "text",
     "locked": true,
     "schema_version": 1,
     "solution": false
    }
   },
   "source": [
    "If you want more challenge, you can continue to the OPTIONAL [Problem 4: Data aggregation](Exercise-5-problem4.ipynb)"
   ]
  }
 ],
 "metadata": {
  "anaconda-cloud": {},
  "kernelspec": {
   "display_name": "Python 3",
   "language": "python",
   "name": "python3"
  },
  "language_info": {
   "codemirror_mode": {
    "name": "ipython",
    "version": 3
   },
   "file_extension": ".py",
   "mimetype": "text/x-python",
   "name": "python",
   "nbconvert_exporter": "python",
   "pygments_lexer": "ipython3",
   "version": "3.6.9"
  }
 },
 "nbformat": 4,
 "nbformat_minor": 4
}
