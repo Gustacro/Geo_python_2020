{
 "cells": [
  {
   "cell_type": "markdown",
   "metadata": {},
   "source": [
    "## Problem 2a - Data manipulation (5 points)\n",
    "\n",
    "Similarly as in earlier exercises the temperatures in our data are represented in Fahrenheit, hence,\n",
    "you need to convert the temperatures into Celsius.\n",
    "\n",
    "\n",
    "First, read again  the data from '6153237444115dat.csv' into a varaible `data` (you can copy your code from problem 1 here):"
   ]
  },
  {
   "cell_type": "code",
   "execution_count": 1,
   "metadata": {
    "deletable": false,
    "nbgrader": {
     "checksum": "a641a478f40eb48ea935a5d3b687a786",
     "grade": false,
     "grade_id": "read_csv",
     "locked": false,
     "schema_version": 1,
     "solution": true
    }
   },
   "outputs": [
    {
     "data": {
      "text/html": [
       "<div>\n",
       "<style scoped>\n",
       "    .dataframe tbody tr th:only-of-type {\n",
       "        vertical-align: middle;\n",
       "    }\n",
       "\n",
       "    .dataframe tbody tr th {\n",
       "        vertical-align: top;\n",
       "    }\n",
       "\n",
       "    .dataframe thead th {\n",
       "        text-align: right;\n",
       "    }\n",
       "</style>\n",
       "<table border=\"1\" class=\"dataframe\">\n",
       "  <thead>\n",
       "    <tr style=\"text-align: right;\">\n",
       "      <th></th>\n",
       "      <th>USAF</th>\n",
       "      <th>WBAN</th>\n",
       "      <th>YR--MODAHRMN</th>\n",
       "      <th>DIR</th>\n",
       "      <th>SPD</th>\n",
       "      <th>GUS</th>\n",
       "      <th>CLG</th>\n",
       "      <th>SKC</th>\n",
       "      <th>L</th>\n",
       "      <th>M</th>\n",
       "      <th>...</th>\n",
       "      <th>SLP</th>\n",
       "      <th>ALT</th>\n",
       "      <th>STP</th>\n",
       "      <th>MAX</th>\n",
       "      <th>MIN</th>\n",
       "      <th>PCP01</th>\n",
       "      <th>PCP06</th>\n",
       "      <th>PCP24</th>\n",
       "      <th>PCPXX</th>\n",
       "      <th>SD</th>\n",
       "    </tr>\n",
       "  </thead>\n",
       "  <tbody>\n",
       "    <tr>\n",
       "      <th>0</th>\n",
       "      <td>28450</td>\n",
       "      <td>99999</td>\n",
       "      <td>201705010000</td>\n",
       "      <td>174</td>\n",
       "      <td>10</td>\n",
       "      <td>14</td>\n",
       "      <td>***</td>\n",
       "      <td>***</td>\n",
       "      <td>*</td>\n",
       "      <td>*</td>\n",
       "      <td>...</td>\n",
       "      <td>1009.2</td>\n",
       "      <td>*****</td>\n",
       "      <td>984.1</td>\n",
       "      <td>***</td>\n",
       "      <td>***</td>\n",
       "      <td>*****</td>\n",
       "      <td>*****</td>\n",
       "      <td>*****</td>\n",
       "      <td>*****</td>\n",
       "      <td>35</td>\n",
       "    </tr>\n",
       "    <tr>\n",
       "      <th>1</th>\n",
       "      <td>28450</td>\n",
       "      <td>99999</td>\n",
       "      <td>201705010020</td>\n",
       "      <td>180</td>\n",
       "      <td>10</td>\n",
       "      <td>***</td>\n",
       "      <td>4</td>\n",
       "      <td>***</td>\n",
       "      <td>*</td>\n",
       "      <td>*</td>\n",
       "      <td>...</td>\n",
       "      <td>******</td>\n",
       "      <td>29.74</td>\n",
       "      <td>******</td>\n",
       "      <td>***</td>\n",
       "      <td>***</td>\n",
       "      <td>*****</td>\n",
       "      <td>*****</td>\n",
       "      <td>*****</td>\n",
       "      <td>*****</td>\n",
       "      <td>**</td>\n",
       "    </tr>\n",
       "    <tr>\n",
       "      <th>2</th>\n",
       "      <td>28450</td>\n",
       "      <td>99999</td>\n",
       "      <td>201705010050</td>\n",
       "      <td>190</td>\n",
       "      <td>10</td>\n",
       "      <td>***</td>\n",
       "      <td>4</td>\n",
       "      <td>***</td>\n",
       "      <td>*</td>\n",
       "      <td>*</td>\n",
       "      <td>...</td>\n",
       "      <td>******</td>\n",
       "      <td>29.74</td>\n",
       "      <td>******</td>\n",
       "      <td>***</td>\n",
       "      <td>***</td>\n",
       "      <td>*****</td>\n",
       "      <td>*****</td>\n",
       "      <td>*****</td>\n",
       "      <td>*****</td>\n",
       "      <td>**</td>\n",
       "    </tr>\n",
       "    <tr>\n",
       "      <th>3</th>\n",
       "      <td>28450</td>\n",
       "      <td>99999</td>\n",
       "      <td>201705010100</td>\n",
       "      <td>188</td>\n",
       "      <td>12</td>\n",
       "      <td>16</td>\n",
       "      <td>***</td>\n",
       "      <td>***</td>\n",
       "      <td>*</td>\n",
       "      <td>*</td>\n",
       "      <td>...</td>\n",
       "      <td>1009.1</td>\n",
       "      <td>*****</td>\n",
       "      <td>984.0</td>\n",
       "      <td>***</td>\n",
       "      <td>***</td>\n",
       "      <td>*****</td>\n",
       "      <td>*****</td>\n",
       "      <td>*****</td>\n",
       "      <td>*****</td>\n",
       "      <td>35</td>\n",
       "    </tr>\n",
       "    <tr>\n",
       "      <th>4</th>\n",
       "      <td>28450</td>\n",
       "      <td>99999</td>\n",
       "      <td>201705010120</td>\n",
       "      <td>200</td>\n",
       "      <td>13</td>\n",
       "      <td>***</td>\n",
       "      <td>2</td>\n",
       "      <td>OBS</td>\n",
       "      <td>*</td>\n",
       "      <td>*</td>\n",
       "      <td>...</td>\n",
       "      <td>******</td>\n",
       "      <td>29.74</td>\n",
       "      <td>******</td>\n",
       "      <td>***</td>\n",
       "      <td>***</td>\n",
       "      <td>*****</td>\n",
       "      <td>*****</td>\n",
       "      <td>*****</td>\n",
       "      <td>*****</td>\n",
       "      <td>**</td>\n",
       "    </tr>\n",
       "  </tbody>\n",
       "</table>\n",
       "<p>5 rows × 33 columns</p>\n",
       "</div>"
      ],
      "text/plain": [
       "    USAF   WBAN  YR--MODAHRMN  DIR SPD  GUS  CLG  SKC  L  M  ...     SLP  \\\n",
       "0  28450  99999  201705010000  174  10   14  ***  ***  *  *  ...  1009.2   \n",
       "1  28450  99999  201705010020  180  10  ***    4  ***  *  *  ...  ******   \n",
       "2  28450  99999  201705010050  190  10  ***    4  ***  *  *  ...  ******   \n",
       "3  28450  99999  201705010100  188  12   16  ***  ***  *  *  ...  1009.1   \n",
       "4  28450  99999  201705010120  200  13  ***    2  OBS  *  *  ...  ******   \n",
       "\n",
       "     ALT     STP  MAX  MIN  PCP01  PCP06  PCP24  PCPXX  SD  \n",
       "0  *****   984.1  ***  ***  *****  *****  *****  *****  35  \n",
       "1  29.74  ******  ***  ***  *****  *****  *****  *****  **  \n",
       "2  29.74  ******  ***  ***  *****  *****  *****  *****  **  \n",
       "3  *****   984.0  ***  ***  *****  *****  *****  *****  35  \n",
       "4  29.74  ******  ***  ***  *****  *****  *****  *****  **  \n",
       "\n",
       "[5 rows x 33 columns]"
      ]
     },
     "execution_count": 1,
     "metadata": {},
     "output_type": "execute_result"
    }
   ],
   "source": [
    "# Import pandas and read in data from csv\n",
    "\n",
    "# YOUR CODE HERE\n",
    "# raise NotImplementedError()\n",
    "\n",
    "# import module require\n",
    "import pandas as pd \n",
    "\n",
    "df = pd.read_csv(r\"C:\\Users\\Gustavocolmenares\\Documents\\SchoolStaff\\GIS_PCC\\Courses_Training\\Geo_python_Course\\exercise_5\\Pandas\\6153237444115dat.csv\")\n",
    "df.head()\n"
   ]
  },
  {
   "cell_type": "markdown",
   "metadata": {},
   "source": [
    "**Subset data and remove no data values** (2 points)\n",
    "\n",
    "In the codeblock below:\n",
    " - Create a new variable `selected`\n",
    " - Select from the `data` columns `USAF, YR--MODAHRMN, TEMP, MAX, MIN` and assign them into the new variable `selected`\n",
    " - Remove all rows from `selected` that has NoData in column `TEMP` using the `dropna()` -function"
   ]
  },
  {
   "cell_type": "code",
   "execution_count": 2,
   "metadata": {
    "deletable": false,
    "nbgrader": {
     "checksum": "be792b8982d5572e99dfe08710a21ccf",
     "grade": false,
     "grade_id": "dataframe_subset",
     "locked": false,
     "schema_version": 1,
     "solution": true
    },
    "scrolled": true
   },
   "outputs": [],
   "source": [
    "# YOUR CODE HERE\n",
    "# raise NotImplementedError()\n",
    "selected = df[['USAF', 'YR--MODAHRMN', 'TEMP', 'MAX', 'MIN']]\n",
    "\n",
    "# Use dropna(subset=<['column_name']> or <[column_index]>) function\n",
    "selected = selected.dropna(subset=['TEMP'])"
   ]
  },
  {
   "cell_type": "code",
   "execution_count": 29,
   "metadata": {
    "deletable": false,
    "editable": false,
    "nbgrader": {
     "checksum": "063362e2915cbe9717a610c67ab108d3",
     "grade": true,
     "grade_id": "dataframe_subset_test",
     "locked": true,
     "points": 2,
     "schema_version": 1,
     "solution": false
    }
   },
   "outputs": [],
   "source": [
    "# Check your dataframe (for example using the head() and len() -functions)\n",
    "\n"
   ]
  },
  {
   "cell_type": "code",
   "execution_count": 3,
   "metadata": {
    "scrolled": true
   },
   "outputs": [
    {
     "name": "stdout",
     "output_type": "stream",
     "text": [
      "    USAF  YR--MODAHRMN TEMP  MAX  MIN\n",
      "0  28450  201705010000   31  ***  ***\n",
      "1  28450  201705010020   30  ***  ***\n",
      "2  28450  201705010050   30  ***  ***\n",
      "3  28450  201705010100   31  ***  ***\n",
      "4  28450  201705010120   30  ***  ***\n",
      "11694\n"
     ]
    }
   ],
   "source": [
    "print(selected.head())\n",
    "print(len(selected))"
   ]
  },
  {
   "cell_type": "markdown",
   "metadata": {},
   "source": [
    "**Convert fahrenheit to celsius** (2 points)\n",
    "- Create a new column `Celsius`\n",
    "- Convert the Fahrenheit temperatures from `TEMP` using the conversion formula (below) and store the results in the new `Celsius`column.\n",
    " ![formula](img/Fahrenheit_to_Celsius_formula.PNG)\n",
    " - Round the values in the `Celsius` column to have 0 decimals (**don't** create a new column --> update the current one)\n",
    " - Convert the `Celsius` values into integers (**don't** create a new column --> update the current one)\n",
    "\n"
   ]
  },
  {
   "cell_type": "code",
   "execution_count": 8,
   "metadata": {
    "deletable": false,
    "nbgrader": {
     "checksum": "c6f018759226eb12ac691f843d87989f",
     "grade": false,
     "grade_id": "temperature_calculation",
     "locked": false,
     "schema_version": 1,
     "solution": true
    },
    "scrolled": true
   },
   "outputs": [],
   "source": [
    "# YOUR CODE HERE\n",
    "# raise NotImplementedError()\n",
    "selected['TEMP'] = selected['TEMP'].replace('\\*', '0', regex =True).astype(int)\n",
    "# convert fahrenheit degrees into Celsius degrees \n",
    "selected['Celsius'] = ((selected['TEMP']-32)/1.8).astype(int)"
   ]
  },
  {
   "cell_type": "code",
   "execution_count": 9,
   "metadata": {
    "deletable": false,
    "editable": false,
    "nbgrader": {
     "checksum": "f0c59db46cfb61b83d4290b230a22f49",
     "grade": true,
     "grade_id": "temperature_calculation_test",
     "locked": true,
     "points": 2,
     "schema_version": 1,
     "solution": false
    }
   },
   "outputs": [
    {
     "data": {
      "text/html": [
       "<div>\n",
       "<style scoped>\n",
       "    .dataframe tbody tr th:only-of-type {\n",
       "        vertical-align: middle;\n",
       "    }\n",
       "\n",
       "    .dataframe tbody tr th {\n",
       "        vertical-align: top;\n",
       "    }\n",
       "\n",
       "    .dataframe thead th {\n",
       "        text-align: right;\n",
       "    }\n",
       "</style>\n",
       "<table border=\"1\" class=\"dataframe\">\n",
       "  <thead>\n",
       "    <tr style=\"text-align: right;\">\n",
       "      <th></th>\n",
       "      <th>USAF</th>\n",
       "      <th>YR--MODAHRMN</th>\n",
       "      <th>TEMP</th>\n",
       "      <th>MAX</th>\n",
       "      <th>MIN</th>\n",
       "      <th>Celsius</th>\n",
       "    </tr>\n",
       "  </thead>\n",
       "  <tbody>\n",
       "    <tr>\n",
       "      <th>0</th>\n",
       "      <td>28450</td>\n",
       "      <td>201705010000</td>\n",
       "      <td>31</td>\n",
       "      <td>***</td>\n",
       "      <td>***</td>\n",
       "      <td>0</td>\n",
       "    </tr>\n",
       "    <tr>\n",
       "      <th>1</th>\n",
       "      <td>28450</td>\n",
       "      <td>201705010020</td>\n",
       "      <td>30</td>\n",
       "      <td>***</td>\n",
       "      <td>***</td>\n",
       "      <td>-1</td>\n",
       "    </tr>\n",
       "    <tr>\n",
       "      <th>2</th>\n",
       "      <td>28450</td>\n",
       "      <td>201705010050</td>\n",
       "      <td>30</td>\n",
       "      <td>***</td>\n",
       "      <td>***</td>\n",
       "      <td>-1</td>\n",
       "    </tr>\n",
       "    <tr>\n",
       "      <th>3</th>\n",
       "      <td>28450</td>\n",
       "      <td>201705010100</td>\n",
       "      <td>31</td>\n",
       "      <td>***</td>\n",
       "      <td>***</td>\n",
       "      <td>0</td>\n",
       "    </tr>\n",
       "    <tr>\n",
       "      <th>4</th>\n",
       "      <td>28450</td>\n",
       "      <td>201705010120</td>\n",
       "      <td>30</td>\n",
       "      <td>***</td>\n",
       "      <td>***</td>\n",
       "      <td>-1</td>\n",
       "    </tr>\n",
       "  </tbody>\n",
       "</table>\n",
       "</div>"
      ],
      "text/plain": [
       "    USAF  YR--MODAHRMN  TEMP  MAX  MIN  Celsius\n",
       "0  28450  201705010000    31  ***  ***        0\n",
       "1  28450  201705010020    30  ***  ***       -1\n",
       "2  28450  201705010050    30  ***  ***       -1\n",
       "3  28450  201705010100    31  ***  ***        0\n",
       "4  28450  201705010120    30  ***  ***       -1"
      ]
     },
     "execution_count": 9,
     "metadata": {},
     "output_type": "execute_result"
    }
   ],
   "source": [
    "# Check your dataframe\n",
    "selected.head()\n"
   ]
  },
  {
   "cell_type": "markdown",
   "metadata": {
    "deletable": false,
    "editable": false,
    "nbgrader": {
     "checksum": "423bab516ac33ff6950daf750ba455c7",
     "grade": false,
     "grade_id": "cell-a63fda07b93db87f",
     "locked": true,
     "schema_version": 1,
     "solution": false
    }
   },
   "source": [
    "**Finalize your submission for Problem 2a** (1 point)\n",
    "- Check that you have commented your code (add inline comments explaining what your code does)\n",
    "- At this point, commit and push your changes to GitHub\n",
    "- Was anything unclear to you until this point? Write your comments to the cell below."
   ]
  },
  {
   "cell_type": "markdown",
   "metadata": {
    "deletable": false,
    "nbgrader": {
     "checksum": "31479cd23e51ec84156b569f6ef22a4b",
     "grade": true,
     "grade_id": "comments",
     "locked": false,
     "points": 1,
     "schema_version": 1,
     "solution": true
    }
   },
   "source": [
    "YOUR ANSWER HERE"
   ]
  },
  {
   "cell_type": "markdown",
   "metadata": {
    "collapsed": true
   },
   "source": [
    "\n",
    "## Problem 2b - Data selection (5 points)\n",
    "\n",
    "In this problem you should divide the data into separate subsets for different stations and save those DataFrames into csv files.\n",
    "\n",
    "**Divide the selection into two separate datasets:** (2 points)\n",
    "  - Select all rows from `selected` DataFrame into variable called `kumpula` where the `USAF` code is `29980`\n",
    "  - Select all rows from `selected` DataFrame into variable called `rovaniemi` where the `USAF` code is `28450`\n",
    "  \n",
    "Please use the given variable names and write your answer to the codeblock below."
   ]
  },
  {
   "cell_type": "code",
   "execution_count": 21,
   "metadata": {
    "deletable": false,
    "nbgrader": {
     "checksum": "67e5f4d4848e1cce9f24377fd953f103",
     "grade": false,
     "grade_id": "subsets",
     "locked": false,
     "schema_version": 1,
     "solution": true
    },
    "scrolled": true
   },
   "outputs": [],
   "source": [
    "# YOUR CODE HERE\n",
    "# raise NotImplementedError()\n",
    "kumpula = selected.loc[selected['USAF']== 29980]\n",
    "rovaniemi = selected.loc[selected['USAF'] == 28450]"
   ]
  },
  {
   "cell_type": "code",
   "execution_count": 22,
   "metadata": {
    "deletable": false,
    "editable": false,
    "nbgrader": {
     "checksum": "b17bfbb62cfe7dccb29a43dfcf482680",
     "grade": true,
     "grade_id": "subsets_test",
     "locked": true,
     "points": 2,
     "schema_version": 1,
     "solution": false
    }
   },
   "outputs": [
    {
     "name": "stdout",
     "output_type": "stream",
     "text": [
      "Kumpula: \n",
      "        USAF  YR--MODAHRMN  TEMP  MAX  MIN  Celsius\n",
      "8770  29980  201705010000    37  ***  ***        2\n",
      "8771  29980  201705010100    37  ***  ***        2\n",
      "8772  29980  201705010200    37  ***  ***        2\n",
      "8773  29980  201705010300    37  ***  ***        2\n",
      "8774  29980  201705010400    39  ***  ***        3 \n",
      "\n",
      "Rovaniemi: \n",
      "     USAF  YR--MODAHRMN  TEMP  MAX  MIN  Celsius\n",
      "0  28450  201705010000    31  ***  ***        0\n",
      "1  28450  201705010020    30  ***  ***       -1\n",
      "2  28450  201705010050    30  ***  ***       -1\n",
      "3  28450  201705010100    31  ***  ***        0\n",
      "4  28450  201705010120    30  ***  ***       -1 \n",
      "\n"
     ]
    }
   ],
   "source": [
    "# Check the dataframes (you don't need to modify this cell)\n",
    "print(\"Kumpula: \\n\", kumpula.head(), \"\\n\")\n",
    "print(\"Rovaniemi: \\n\", rovaniemi.head(), \"\\n\")\n"
   ]
  },
  {
   "cell_type": "markdown",
   "metadata": {},
   "source": [
    "**Save selections to csv files** (2points)\n",
    "- Save `kumpula` DataFrame into `Kumpula_temps_May_Aug_2017.csv` file (CSV format) \n",
    "   - separate the columns with  comma (`,`)\n",
    "   - use only 2 decimals in the floating point numbers\n",
    "- Save `rovaniemi` DataFrame into `Rovaniemi_temps_May_Aug_2017.csv` file (CSV format) \n",
    "   - separate the columns with comma (`,`)\n",
    "   - use only 2 decimals in the floating point numbers\n"
   ]
  },
  {
   "cell_type": "code",
   "execution_count": 24,
   "metadata": {
    "deletable": false,
    "nbgrader": {
     "checksum": "c3f5a426f626ebbe3371f1771702f54f",
     "grade": true,
     "grade_id": "to_csv",
     "locked": false,
     "points": 2,
     "schema_version": 1,
     "solution": true
    },
    "scrolled": true
   },
   "outputs": [],
   "source": [
    "# YOUR CODE HERE\n",
    "# raise NotImplementedError()\n",
    "\n",
    "# Use to_csv to save the DataFrame in a csv file.\n",
    "\n",
    "# Create a variable that contain the name of the [New CSV] file.\n",
    "output_k = 'Kumpula_temps_May_Aug_2017.csv'\n",
    "output_r = 'Rovaniemi_temps_May_Aug_2017.csv'\n",
    "\n",
    "# Save the DataFrame to csv file using: <dataframe>.to_csv(<path_of_New_file>,sep=',',index=False , float_format= '%.1f')\n",
    "# sep=',' is the delimiter for the output\n",
    "# index= False is for the dataset not have a new index value column that is not necessary\n",
    "# float_format = '%.1f' to determine the number of decimals in any column with float values\n",
    "kumpula.to_csv(output_k, sep=',', index=False, float_format= '%.1f') \n",
    "rovaniemi.to_csv(output_r, sep= ',', index=False, float_format= '%.1f')"
   ]
  },
  {
   "cell_type": "code",
   "execution_count": null,
   "metadata": {
    "collapsed": true,
    "deletable": false,
    "editable": false,
    "nbgrader": {
     "checksum": "e17856f48590694e60c5a062246d4739",
     "grade": true,
     "grade_id": "to_csv_test",
     "locked": true,
     "points": 0,
     "schema_version": 1,
     "solution": false
    }
   },
   "outputs": [],
   "source": []
  },
  {
   "cell_type": "markdown",
   "metadata": {
    "deletable": false,
    "editable": false,
    "nbgrader": {
     "checksum": "e322f6406b46b37c3504f90f127d6d72",
     "grade": false,
     "grade_id": "cell-3d8b5609d0cea2a9",
     "locked": true,
     "schema_version": 1,
     "solution": false
    }
   },
   "source": [
    "**Commit and push changes (including the 2 csv files!) into your GitHub repository for Exercise 5** (1 point)\n",
    "\n",
    "Did you encounter any problems with decimal formatting?"
   ]
  },
  {
   "cell_type": "markdown",
   "metadata": {
    "deletable": false,
    "nbgrader": {
     "checksum": "09b04052fd8c27c1c62c2a515ccda2d4",
     "grade": true,
     "grade_id": "upload_csv_files",
     "locked": false,
     "points": 1,
     "schema_version": 1,
     "solution": true
    }
   },
   "source": [
    "YOUR ANSWER HERE"
   ]
  },
  {
   "cell_type": "markdown",
   "metadata": {
    "collapsed": true
   },
   "source": [
    "Now you can continue to [problem 3: Data analysis](Exercise-5-problem3.ipynb)"
   ]
  }
 ],
 "metadata": {
  "anaconda-cloud": {},
  "kernelspec": {
   "display_name": "Python 3",
   "language": "python",
   "name": "python3"
  },
  "language_info": {
   "codemirror_mode": {
    "name": "ipython",
    "version": 3
   },
   "file_extension": ".py",
   "mimetype": "text/x-python",
   "name": "python",
   "nbconvert_exporter": "python",
   "pygments_lexer": "ipython3",
   "version": "3.6.8"
  }
 },
 "nbformat": 4,
 "nbformat_minor": 2
}
