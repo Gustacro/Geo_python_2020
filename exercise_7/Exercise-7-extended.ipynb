{
 "cells": [
  {
   "cell_type": "markdown",
   "metadata": {},
   "source": [
    "# Exercise 7: Plotting climate data in Python\n",
    "\n",
    "This week we'll put together our data analysis and plotting skills using Pandas and Matplotlib to visualize the temperature data we have been exploring for the course thus far.\n",
    "For each problem you will create or modify a Python script, then upload your files to GitHub.\n",
    "The answers to the questions in this week's exercise should be given by modifying the document in places where asked or at the end of this document in the [section titled Answers](#answers).\n",
    "\n",
    "\n",
    "- **Exercise 7 is due by 16:00 on 27.10.**\n",
    "- Don't forget to check out [the hints for this week's exercise](https://geo-python.github.io/2017/lessons/L7/exercise-7-hints.html) if you're having trouble.\n",
    "- Scores on this exercise are out of 20 points.\n"
   ]
  },
  {
   "cell_type": "markdown",
   "metadata": {},
   "source": [
    "## Problem 0 - Creating the data file for this week (2 points)\n",
    "\n",
    "Your first task in this exercise is to write out a file with the contents of the Pandas DataFrame(s) you produced in [Exercise 6](https://github.com/Geo-Python-2017/Exercise-6), Problems 3 and 4.\n",
    "As described in [Lesson 5](https://geo-python.github.io/2017/lessons/L5/pandas-basic-operations.html#writing-data), data can be saved to a file in Pandas using `dataFrame.to_csv('file.csv, sep=',')`.\n",
    "Start by creating one data file for the Helsinki temperature data (`helsinki.csv`) and a second for the Sodankylä data (`sodankyla.csv`).\n"
   ]
  },
  {
   "cell_type": "code",
   "execution_count": 15,
   "metadata": {},
   "outputs": [],
   "source": [
    "# import modules\n",
    "import pandas as pd\n",
    "import matplotlib.pyplot as plt\n",
    "import os\n",
    "import numpy as np\n",
    "import imageio\n",
    "import glob"
   ]
  },
  {
   "cell_type": "code",
   "execution_count": 31,
   "metadata": {},
   "outputs": [],
   "source": [
    "# Read file\n",
    "dataHel = pd.read_csv('data\\helsinki.csv', usecols=['YM', 'TAVG_Celsius', 'avgTempsC', 'Diff'])\n",
    "dataSod = pd.read_csv('data\\sodankyla.csv', usecols=['YM', 'TAVG_Celsius', 'avgTempsC', 'Diff'])"
   ]
  },
  {
   "cell_type": "code",
   "execution_count": 17,
   "metadata": {},
   "outputs": [
    {
     "name": "stdout",
     "output_type": "stream",
     "text": [
      "dataHel columns:\n",
      "Index(['YM', 'TAVG_Celsius', 'avgTempsC', 'Diff'], dtype='object')\n",
      "dataSodl columns:\n",
      "Index(['YM', 'TAVG_Celsius', 'avgTempsC', 'Diff'], dtype='object')\n"
     ]
    }
   ],
   "source": [
    "print(f'dataHel columns:\\n{dataHel.columns}')\n",
    "print(f'dataSodl columns:\\n{dataSod.columns}')"
   ]
  },
  {
   "cell_type": "code",
   "execution_count": 18,
   "metadata": {},
   "outputs": [
    {
     "name": "stdout",
     "output_type": "stream",
     "text": [
      "dataHel:\n",
      "       YM  TAVG_Celsius  avgTempsC      Diff\n",
      "0  195201     -1.400966  -5.877342  4.476376\n",
      "1  195202     -4.000000  -6.990482  2.990482\n",
      "2  195203    -10.106838  -3.841270 -6.265568\n",
      "3  195204      4.226190   2.427875  1.798315\n",
      "4  195205      7.037037   9.522613 -2.485576\n",
      "\n",
      "\n",
      "dataSod:\n",
      "       YM  TAVG_Celsius  avgTempsC      Diff\n",
      "0  195901           NaN -14.645439       NaN\n",
      "1  195902           NaN -14.055386       NaN\n",
      "2  195903           NaN  -9.510641       NaN\n",
      "3  195904           NaN  -3.091635       NaN\n",
      "4  195905      5.259857   3.865184  1.394673\n"
     ]
    }
   ],
   "source": [
    "print(f'dataHel:\\n{dataHel.head()}')\n",
    "print('\\n')\n",
    "print(f'dataSod:\\n{dataSod.head()}')"
   ]
  },
  {
   "cell_type": "code",
   "execution_count": 19,
   "metadata": {},
   "outputs": [
    {
     "name": "stdout",
     "output_type": "stream",
     "text": [
      "DatetimeIndex(['1953-01-01', '1954-01-01', '1955-01-01', '1956-01-01',\n",
      "               '1957-01-01', '1958-01-01', '1959-01-01', '1960-01-01',\n",
      "               '1961-01-01', '1962-01-01', '1963-01-01', '1964-01-01',\n",
      "               '1965-01-01', '1966-01-01', '1967-01-01', '1968-01-01',\n",
      "               '1969-01-01', '1970-01-01', '1971-01-01', '1972-01-01',\n",
      "               '1973-01-01', '1974-01-01', '1975-01-01', '1976-01-01',\n",
      "               '1977-01-01', '1978-01-01', '1979-01-01', '1980-01-01',\n",
      "               '1981-01-01', '1982-01-01', '1983-01-01', '1984-01-01',\n",
      "               '1985-01-01', '1986-01-01', '1987-01-01', '1988-01-01',\n",
      "               '1989-01-01', '1990-01-01', '1991-01-01', '1992-01-01',\n",
      "               '1993-01-01', '1994-01-01', '1995-01-01', '1996-01-01',\n",
      "               '1997-01-01', '1998-01-01', '1999-01-01', '2000-01-01',\n",
      "               '2001-01-01', '2002-01-01', '2003-01-01', '2004-01-01',\n",
      "               '2005-01-01', '2006-01-01', '2007-01-01', '2008-01-01',\n",
      "               '2009-01-01', '2010-01-01', '2011-01-01', '2012-01-01',\n",
      "               '2013-01-01', '2014-01-01', '2015-01-01', '2016-01-01',\n",
      "               '2017-01-01'],\n",
      "              dtype='datetime64[ns]', freq='AS-JAN')\n"
     ]
    }
   ],
   "source": [
    "# Convert column to datetime type\n",
    "dataHel['YM'] = pd.to_datetime(dataHel['YM'],format='%Y%m')\n",
    "dataSod['YM'] = pd.to_datetime(dataSod['YM'],format='%Y%m')\n",
    "\n",
    "# Set datetime index\n",
    "dataHel= dataHel.set_index('YM')\n",
    "dataSod= dataSod.set_index('YM')\n",
    "\n",
    "# Create time index\n",
    "timeindex = pd.date_range('1953', '2017', freq='AS')\n",
    "\n",
    "print(timeindex)"
   ]
  },
  {
   "cell_type": "code",
   "execution_count": 20,
   "metadata": {},
   "outputs": [
    {
     "name": "stdout",
     "output_type": "stream",
     "text": [
      "dataHel:\n",
      "            TAVG_Celsius  avgTempsC      Diff\n",
      "YM                                           \n",
      "1952-01-01     -1.400966  -5.877342  4.476376\n",
      "1952-02-01     -4.000000  -6.990482  2.990482\n",
      "1952-03-01    -10.106838  -3.841270 -6.265568\n",
      "1952-04-01      4.226190   2.427875  1.798315\n",
      "1952-05-01      7.037037   9.522613 -2.485576\n",
      "\n",
      "\n",
      "dataSod:\n",
      "            TAVG_Celsius  avgTempsC      Diff\n",
      "YM                                           \n",
      "1959-01-01           NaN -14.645439       NaN\n",
      "1959-02-01           NaN -14.055386       NaN\n",
      "1959-03-01           NaN  -9.510641       NaN\n",
      "1959-04-01           NaN  -3.091635       NaN\n",
      "1959-05-01      5.259857   3.865184  1.394673\n",
      "\n",
      "\n",
      "Int64Index([1952, 1952, 1952, 1952, 1952, 1952, 1952, 1952, 1952, 1952,\n",
      "            ...\n",
      "            2017, 2017, 2017, 2017, 2017, 2017, 2017, 2017, 2017, 2017],\n",
      "           dtype='int64', name='YM', length=790)\n"
     ]
    }
   ],
   "source": [
    "print(f'dataHel:\\n{dataHel.head()}')\n",
    "print('\\n')\n",
    "print(f'dataSod:\\n{dataSod.head()}')\n",
    "print('\\n')\n",
    "print(dataHel.index.year )"
   ]
  },
  {
   "cell_type": "code",
   "execution_count": 21,
   "metadata": {},
   "outputs": [
    {
     "name": "stdout",
     "output_type": "stream",
     "text": [
      "           Winter Spring Summer Fall\n",
      "1953-01-01    NaN    NaN    NaN  NaN\n",
      "1954-01-01    NaN    NaN    NaN  NaN\n",
      "1955-01-01    NaN    NaN    NaN  NaN\n",
      "1956-01-01    NaN    NaN    NaN  NaN\n",
      "1957-01-01    NaN    NaN    NaN  NaN\n",
      "           Winter Spring Summer Fall\n",
      "1953-01-01    NaN    NaN    NaN  NaN\n",
      "1954-01-01    NaN    NaN    NaN  NaN\n",
      "1955-01-01    NaN    NaN    NaN  NaN\n",
      "1956-01-01    NaN    NaN    NaN  NaN\n",
      "1957-01-01    NaN    NaN    NaN  NaN\n"
     ]
    }
   ],
   "source": [
    "# Create empty dataframes with datatime index\n",
    "seasonalDataHel= pd.DataFrame(index=timeindex, columns=['Winter', 'Spring', 'Summer', 'Fall'])\n",
    "seasonalDataSod= pd.DataFrame(index=timeindex, columns=['Winter', 'Spring', 'Summer', 'Fall'])\n",
    "\n",
    "# sample of the dataframes\n",
    "print(seasonalDataHel.head())\n",
    "print(seasonalDataSod.head())"
   ]
  },
  {
   "cell_type": "code",
   "execution_count": 22,
   "metadata": {},
   "outputs": [],
   "source": [
    "# Loop seasons and fill empty DataFrame for Helsinki\n",
    "\n",
    "for i in range(1953,2018):\n",
    "    winter = dataHel[str(i-1)+'-12':str(i)+'-02'] # variable contains df[str(i)] index str, in this case 'YM'\n",
    "    spring = dataHel[str(i)+'-03':str(i)+'-05']\n",
    "    summer = dataHel[str(i)+'-06':str(i)+'-08']\n",
    "    fall = dataHel[str(i)+'-09':str(i)+'-11']\n",
    "    # conditions if season contans exact 3 entry rows equivalente to 3 months per season\n",
    "    if len(winter) == 3:\n",
    "        seasonalDataHel.loc[str(i)+'-01-01', ['Winter']] = winter['Diff'].mean(skipna=False)\n",
    "    if len(spring) == 3: \n",
    "        seasonalDataHel.loc[str(i)+'-01-01', ['Spring']] = spring['Diff'].mean(skipna=False)\n",
    "    if len(summer) == 3:   \n",
    "        seasonalDataHel.loc[str(i)+'-01-01', ['Summer']] = summer['Diff'].mean(skipna=False)\n",
    "    if len(fall) == 3:\n",
    "        seasonalDataHel.loc[str(i)+'-01-01', ['Fall']] = fall['Diff'].mean(skipna=False)\n"
   ]
  },
  {
   "cell_type": "code",
   "execution_count": 23,
   "metadata": {},
   "outputs": [],
   "source": [
    "# Loop seasons and fill empty DataFrame for Sodankyla\n",
    "for i in range(1953,2018):\n",
    "    winter = dataSod[str(i-1)+'-12-01':str(i)+'-02-01']\n",
    "    spring = dataSod[str(i)+'-03-01':str(i)+'-05-01']\n",
    "    summer = dataSod[str(i)+'-06-01':str(i)+'-08-01']\n",
    "    fall = dataSod[str(i)+'-09-01':str(i)+'-11-01']\n",
    "    if len(winter) == 3:\n",
    "        seasonalDataSod.loc[str(i)+'-01-01', ['Winter']] = winter['Diff'].mean(skipna=False)\n",
    "    if len(spring) == 3:    \n",
    "        seasonalDataSod.loc[str(i)+'-01-01', ['Spring']] = spring['Diff'].mean(skipna=False)\n",
    "    if len(summer) == 3:   \n",
    "        seasonalDataSod.loc[str(i)+'-01-01', ['Summer']] = summer['Diff'].mean(skipna=False)\n",
    "    if len(fall) == 3:   \n",
    "        seasonalDataSod.loc[str(i)+'-01-01', ['Fall']] = fall['Diff'].mean(skipna=False)"
   ]
  },
  {
   "cell_type": "markdown",
   "metadata": {},
   "source": [
    "__Change style plots__"
   ]
  },
  {
   "cell_type": "code",
   "execution_count": 25,
   "metadata": {},
   "outputs": [],
   "source": [
    "plt.style.use('seaborn-whitegrid')"
   ]
  },
  {
   "cell_type": "code",
   "execution_count": 26,
   "metadata": {},
   "outputs": [],
   "source": [
    "# My folder saving bar-plots\n",
    "plotFolder= r'CompareBars' "
   ]
  },
  {
   "cell_type": "code",
   "execution_count": 27,
   "metadata": {},
   "outputs": [],
   "source": [
    "# Create y-ticks\n",
    "yticks= np.arange(start=-8, stop=9, step=2)"
   ]
  },
  {
   "cell_type": "code",
   "execution_count": 28,
   "metadata": {},
   "outputs": [
    {
     "ename": "KeyError",
     "evalue": "\"None of [Int64Index([1959], dtype='int64')] are in the [columns]\"",
     "output_type": "error",
     "traceback": [
      "\u001b[1;31m---------------------------------------------------------------------------\u001b[0m",
      "\u001b[1;31mKeyError\u001b[0m                                  Traceback (most recent call last)",
      "\u001b[1;32m<ipython-input-28-952ed685c2f0>\u001b[0m in \u001b[0;36m<module>\u001b[1;34m\u001b[0m\n\u001b[0;32m      5\u001b[0m     \u001b[0max1\u001b[0m\u001b[1;33m=\u001b[0m \u001b[0maxes\u001b[0m\u001b[1;33m[\u001b[0m\u001b[1;36m1\u001b[0m\u001b[1;33m]\u001b[0m\u001b[1;33m\u001b[0m\u001b[1;33m\u001b[0m\u001b[0m\n\u001b[0;32m      6\u001b[0m     \u001b[0myearHel\u001b[0m\u001b[1;33m=\u001b[0m \u001b[0mseasonalDataHel\u001b[0m\u001b[1;33m[\u001b[0m\u001b[0mstr\u001b[0m\u001b[1;33m(\u001b[0m\u001b[0mi\u001b[0m\u001b[1;33m)\u001b[0m\u001b[1;33m]\u001b[0m\u001b[1;33m\u001b[0m\u001b[1;33m\u001b[0m\u001b[0m\n\u001b[1;32m----> 7\u001b[1;33m     \u001b[0myearHel\u001b[0m\u001b[1;33m.\u001b[0m\u001b[0mplot\u001b[0m\u001b[1;33m(\u001b[0m\u001b[0myearHel\u001b[0m\u001b[1;33m.\u001b[0m\u001b[0mindex\u001b[0m\u001b[1;33m.\u001b[0m\u001b[0myear\u001b[0m\u001b[1;33m,\u001b[0m \u001b[1;33m[\u001b[0m\u001b[1;34m'Winter'\u001b[0m\u001b[1;33m,\u001b[0m \u001b[1;34m'Spring'\u001b[0m\u001b[1;33m,\u001b[0m \u001b[1;34m'Summer'\u001b[0m\u001b[1;33m,\u001b[0m \u001b[1;34m'Fall'\u001b[0m\u001b[1;33m]\u001b[0m\u001b[1;33m,\u001b[0m \u001b[0mkind\u001b[0m\u001b[1;33m=\u001b[0m\u001b[1;34m'bar'\u001b[0m\u001b[1;33m,\u001b[0m \u001b[0max\u001b[0m\u001b[1;33m=\u001b[0m \u001b[0max0\u001b[0m\u001b[1;33m,\u001b[0m \u001b[0mcolor\u001b[0m\u001b[1;33m=\u001b[0m\u001b[1;33m(\u001b[0m\u001b[1;34m'blue'\u001b[0m\u001b[1;33m,\u001b[0m\u001b[1;34m'magenta'\u001b[0m\u001b[1;33m,\u001b[0m \u001b[1;34m'green'\u001b[0m\u001b[1;33m,\u001b[0m \u001b[1;34m'olive'\u001b[0m\u001b[1;33m)\u001b[0m\u001b[1;33m,\u001b[0m \u001b[0medgecolor\u001b[0m\u001b[1;33m=\u001b[0m\u001b[1;34m'None'\u001b[0m\u001b[1;33m,\u001b[0m \u001b[0mylim\u001b[0m\u001b[1;33m=\u001b[0m\u001b[1;33m(\u001b[0m\u001b[1;36m8\u001b[0m\u001b[1;33m,\u001b[0m \u001b[1;36m8\u001b[0m\u001b[1;33m)\u001b[0m\u001b[1;33m,\u001b[0m \u001b[0myticks\u001b[0m\u001b[1;33m=\u001b[0m\u001b[0myticks\u001b[0m\u001b[1;33m)\u001b[0m\u001b[1;33m\u001b[0m\u001b[1;33m\u001b[0m\u001b[0m\n\u001b[0m\u001b[0;32m      8\u001b[0m     \u001b[0max0\u001b[0m\u001b[1;33m.\u001b[0m\u001b[0mset_title\u001b[0m\u001b[1;33m(\u001b[0m\u001b[1;34m'Weather anomalies in Helsinki'\u001b[0m\u001b[1;33m)\u001b[0m\u001b[1;33m\u001b[0m\u001b[1;33m\u001b[0m\u001b[0m\n\u001b[0;32m      9\u001b[0m     \u001b[0max0\u001b[0m\u001b[1;33m.\u001b[0m\u001b[0mtick_params\u001b[0m\u001b[1;33m(\u001b[0m\u001b[0maxis\u001b[0m\u001b[1;33m=\u001b[0m\u001b[1;34m'x'\u001b[0m\u001b[1;33m,\u001b[0m \u001b[0mlabeltop\u001b[0m\u001b[1;33m=\u001b[0m\u001b[1;32mFalse\u001b[0m\u001b[1;33m,\u001b[0m \u001b[0mlabelbottom\u001b[0m\u001b[1;33m=\u001b[0m\u001b[1;32mFalse\u001b[0m\u001b[1;33m)\u001b[0m\u001b[1;33m\u001b[0m\u001b[1;33m\u001b[0m\u001b[0m\n",
      "\u001b[1;32m~\\Anaconda3\\lib\\site-packages\\pandas\\plotting\\_core.py\u001b[0m in \u001b[0;36m__call__\u001b[1;34m(self, *args, **kwargs)\u001b[0m\n\u001b[0;32m    810\u001b[0m                 \u001b[1;32mif\u001b[0m \u001b[0mis_integer\u001b[0m\u001b[1;33m(\u001b[0m\u001b[0mx\u001b[0m\u001b[1;33m)\u001b[0m \u001b[1;32mand\u001b[0m \u001b[1;32mnot\u001b[0m \u001b[0mdata\u001b[0m\u001b[1;33m.\u001b[0m\u001b[0mcolumns\u001b[0m\u001b[1;33m.\u001b[0m\u001b[0mholds_integer\u001b[0m\u001b[1;33m(\u001b[0m\u001b[1;33m)\u001b[0m\u001b[1;33m:\u001b[0m\u001b[1;33m\u001b[0m\u001b[1;33m\u001b[0m\u001b[0m\n\u001b[0;32m    811\u001b[0m                     \u001b[0mx\u001b[0m \u001b[1;33m=\u001b[0m \u001b[0mdata_cols\u001b[0m\u001b[1;33m[\u001b[0m\u001b[0mx\u001b[0m\u001b[1;33m]\u001b[0m\u001b[1;33m\u001b[0m\u001b[1;33m\u001b[0m\u001b[0m\n\u001b[1;32m--> 812\u001b[1;33m                 \u001b[1;32melif\u001b[0m \u001b[1;32mnot\u001b[0m \u001b[0misinstance\u001b[0m\u001b[1;33m(\u001b[0m\u001b[0mdata\u001b[0m\u001b[1;33m[\u001b[0m\u001b[0mx\u001b[0m\u001b[1;33m]\u001b[0m\u001b[1;33m,\u001b[0m \u001b[0mABCSeries\u001b[0m\u001b[1;33m)\u001b[0m\u001b[1;33m:\u001b[0m\u001b[1;33m\u001b[0m\u001b[1;33m\u001b[0m\u001b[0m\n\u001b[0m\u001b[0;32m    813\u001b[0m                     \u001b[1;32mraise\u001b[0m \u001b[0mValueError\u001b[0m\u001b[1;33m(\u001b[0m\u001b[1;34m\"x must be a label or position\"\u001b[0m\u001b[1;33m)\u001b[0m\u001b[1;33m\u001b[0m\u001b[1;33m\u001b[0m\u001b[0m\n\u001b[0;32m    814\u001b[0m                 \u001b[0mdata\u001b[0m \u001b[1;33m=\u001b[0m \u001b[0mdata\u001b[0m\u001b[1;33m.\u001b[0m\u001b[0mset_index\u001b[0m\u001b[1;33m(\u001b[0m\u001b[0mx\u001b[0m\u001b[1;33m)\u001b[0m\u001b[1;33m\u001b[0m\u001b[1;33m\u001b[0m\u001b[0m\n",
      "\u001b[1;32m~\\Anaconda3\\lib\\site-packages\\pandas\\core\\frame.py\u001b[0m in \u001b[0;36m__getitem__\u001b[1;34m(self, key)\u001b[0m\n\u001b[0;32m   2804\u001b[0m             \u001b[1;32mif\u001b[0m \u001b[0mis_iterator\u001b[0m\u001b[1;33m(\u001b[0m\u001b[0mkey\u001b[0m\u001b[1;33m)\u001b[0m\u001b[1;33m:\u001b[0m\u001b[1;33m\u001b[0m\u001b[1;33m\u001b[0m\u001b[0m\n\u001b[0;32m   2805\u001b[0m                 \u001b[0mkey\u001b[0m \u001b[1;33m=\u001b[0m \u001b[0mlist\u001b[0m\u001b[1;33m(\u001b[0m\u001b[0mkey\u001b[0m\u001b[1;33m)\u001b[0m\u001b[1;33m\u001b[0m\u001b[1;33m\u001b[0m\u001b[0m\n\u001b[1;32m-> 2806\u001b[1;33m             \u001b[0mindexer\u001b[0m \u001b[1;33m=\u001b[0m \u001b[0mself\u001b[0m\u001b[1;33m.\u001b[0m\u001b[0mloc\u001b[0m\u001b[1;33m.\u001b[0m\u001b[0m_get_listlike_indexer\u001b[0m\u001b[1;33m(\u001b[0m\u001b[0mkey\u001b[0m\u001b[1;33m,\u001b[0m \u001b[0maxis\u001b[0m\u001b[1;33m=\u001b[0m\u001b[1;36m1\u001b[0m\u001b[1;33m,\u001b[0m \u001b[0mraise_missing\u001b[0m\u001b[1;33m=\u001b[0m\u001b[1;32mTrue\u001b[0m\u001b[1;33m)\u001b[0m\u001b[1;33m[\u001b[0m\u001b[1;36m1\u001b[0m\u001b[1;33m]\u001b[0m\u001b[1;33m\u001b[0m\u001b[1;33m\u001b[0m\u001b[0m\n\u001b[0m\u001b[0;32m   2807\u001b[0m \u001b[1;33m\u001b[0m\u001b[0m\n\u001b[0;32m   2808\u001b[0m         \u001b[1;31m# take() does not accept boolean indexers\u001b[0m\u001b[1;33m\u001b[0m\u001b[1;33m\u001b[0m\u001b[1;33m\u001b[0m\u001b[0m\n",
      "\u001b[1;32m~\\Anaconda3\\lib\\site-packages\\pandas\\core\\indexing.py\u001b[0m in \u001b[0;36m_get_listlike_indexer\u001b[1;34m(self, key, axis, raise_missing)\u001b[0m\n\u001b[0;32m   1551\u001b[0m \u001b[1;33m\u001b[0m\u001b[0m\n\u001b[0;32m   1552\u001b[0m         self._validate_read_indexer(\n\u001b[1;32m-> 1553\u001b[1;33m             \u001b[0mkeyarr\u001b[0m\u001b[1;33m,\u001b[0m \u001b[0mindexer\u001b[0m\u001b[1;33m,\u001b[0m \u001b[0mo\u001b[0m\u001b[1;33m.\u001b[0m\u001b[0m_get_axis_number\u001b[0m\u001b[1;33m(\u001b[0m\u001b[0maxis\u001b[0m\u001b[1;33m)\u001b[0m\u001b[1;33m,\u001b[0m \u001b[0mraise_missing\u001b[0m\u001b[1;33m=\u001b[0m\u001b[0mraise_missing\u001b[0m\u001b[1;33m\u001b[0m\u001b[1;33m\u001b[0m\u001b[0m\n\u001b[0m\u001b[0;32m   1554\u001b[0m         )\n\u001b[0;32m   1555\u001b[0m         \u001b[1;32mreturn\u001b[0m \u001b[0mkeyarr\u001b[0m\u001b[1;33m,\u001b[0m \u001b[0mindexer\u001b[0m\u001b[1;33m\u001b[0m\u001b[1;33m\u001b[0m\u001b[0m\n",
      "\u001b[1;32m~\\Anaconda3\\lib\\site-packages\\pandas\\core\\indexing.py\u001b[0m in \u001b[0;36m_validate_read_indexer\u001b[1;34m(self, key, indexer, axis, raise_missing)\u001b[0m\n\u001b[0;32m   1638\u001b[0m             \u001b[1;32mif\u001b[0m \u001b[0mmissing\u001b[0m \u001b[1;33m==\u001b[0m \u001b[0mlen\u001b[0m\u001b[1;33m(\u001b[0m\u001b[0mindexer\u001b[0m\u001b[1;33m)\u001b[0m\u001b[1;33m:\u001b[0m\u001b[1;33m\u001b[0m\u001b[1;33m\u001b[0m\u001b[0m\n\u001b[0;32m   1639\u001b[0m                 \u001b[0maxis_name\u001b[0m \u001b[1;33m=\u001b[0m \u001b[0mself\u001b[0m\u001b[1;33m.\u001b[0m\u001b[0mobj\u001b[0m\u001b[1;33m.\u001b[0m\u001b[0m_get_axis_name\u001b[0m\u001b[1;33m(\u001b[0m\u001b[0maxis\u001b[0m\u001b[1;33m)\u001b[0m\u001b[1;33m\u001b[0m\u001b[1;33m\u001b[0m\u001b[0m\n\u001b[1;32m-> 1640\u001b[1;33m                 \u001b[1;32mraise\u001b[0m \u001b[0mKeyError\u001b[0m\u001b[1;33m(\u001b[0m\u001b[1;34mf\"None of [{key}] are in the [{axis_name}]\"\u001b[0m\u001b[1;33m)\u001b[0m\u001b[1;33m\u001b[0m\u001b[1;33m\u001b[0m\u001b[0m\n\u001b[0m\u001b[0;32m   1641\u001b[0m \u001b[1;33m\u001b[0m\u001b[0m\n\u001b[0;32m   1642\u001b[0m             \u001b[1;31m# We (temporarily) allow for some missing keys with .loc, except in\u001b[0m\u001b[1;33m\u001b[0m\u001b[1;33m\u001b[0m\u001b[1;33m\u001b[0m\u001b[0m\n",
      "\u001b[1;31mKeyError\u001b[0m: \"None of [Int64Index([1959], dtype='int64')] are in the [columns]\""
     ]
    },
    {
     "data": {
      "image/png": "[encoded data removed]",
      "text/plain": [
       "<Figure size 576x576 with 2 Axes>"
      ]
     },
     "metadata": {},
     "output_type": "display_data"
    }
   ],
   "source": [
    "# Create multiple bar-plots using fo LOOP\n",
    "for i in  range(1959, 2018):\n",
    "    fig, axes = plt.subplots(nrows=2, ncols=1, figsize=(8,8)) # create subplot canvas\n",
    "    ax0= axes[0] # \n",
    "    ax1= axes[1]\n",
    "    yearHel= seasonalDataHel[str(i)]\n",
    "    yearHel.plot(yearHel.index.year, ['Winter', 'Spring', 'Summer', 'Fall'], kind='bar', ax= ax0, color=('blue','magenta', 'green', 'olive'), edgecolor='None', ylim=(8, 8), yticks=yticks)\n",
    "    ax0.set_title('Weather anomalies in Helsinki')\n",
    "    ax0.tick_params(axis='x', labeltop=False, labelbottom=False)\n",
    "    ax0.legend(loc=4, fontsize=12, frameon=False, fancybox=True)\n",
    "    yearSod= seasonalDataSod[str(i)]\n",
    "    yearSod.plot(yearSod.index.year, ['Winter', 'Spring', 'Summer', 'Fall'], kind='bar', ax= ax1, color=('blue','magenta', 'green', 'olive'), edgecolor='None', ylim=(8, 8), yticks=yticks)\n",
    "    ax1.set_title('Weather anomalies in Sodankyla')\n",
    "    ax1.tick_params(axis='x', labeltop=False, labelbottom=False)\n",
    "    ax1.legend(loc=4, fontsize=12, frameon=False, fancybox=True)\n",
    "    fig.add_subplot(111, frameon=False)\n",
    "    plt.grid('off')\n",
    "    plt.tick_params(labelcolor='none', top='off', bottom='off', left='off', right='off')\n",
    "    plt.ylabel('Difference from long-term seasonal average temperature', size=18, labelpad=-2)\n",
    "    plt.xlabel(i, size=20, labelpad=-3)\n",
    "    # Save multiple bar-plots\n",
    "    filename= 'Bar_'+ str(i)+\".png\"\n",
    "    filepath= os.path.join(plotfolder, filename)\n",
    "    plt.savefig(filepath, dpi=300)\n",
    "    plt.close()\n",
    "    "
   ]
  },
  {
   "cell_type": "code",
   "execution_count": null,
   "metadata": {},
   "outputs": [],
   "source": []
  },
  {
   "cell_type": "markdown",
   "metadata": {},
   "source": [
    "## Problem 1 - Doing time, plotting temperatures (6 points)\n",
    "\n",
    "In this first problem we'll work with using the datetime format for Pandas data, and creating a line plot of data from a file.\n",
    "You should:\n",
    "\n",
    "1. Load the Helsinki temperature data file produced above (`helsinki.csv`) into Pandas\n",
    "2. Convert the `DATE_m` (or your equivalent date variable) column to the Pandas datetime format.\n",
    "3. Set the `DATE_m` column as the DataFrame index\n",
    "4. Make a line plot of temperatures in Celsius from 2010-2017.\n",
    "    - The line should be a dashed black line with circles for the data points, and include a descriptive title and axis labels.\n",
    "\n",
    "Save your Python script file as `temperature_plot.py` in GitHub and include a copy of the plot it produces in your answer to Problem 1 below.\n",
    "More guidance on this problem can be found in [the hints for this week's exercise](https://geo-python.github.io/2017/lessons/L7/exercise-7-hints.html).\n"
   ]
  },
  {
   "cell_type": "markdown",
   "metadata": {},
   "source": [
    "## Problem 2 - Seasonal temperature anomalies, visualized (6 points)\n",
    "\n",
    "![img\\Ex7-2.png](img\\Ex7-2.png)<br/>\n",
    "*The goal for this problem is to make this plot.*\n",
    "\n",
    "For Problem 2, the goal is to recreate the plot above, a 4-panel plot showing seasonal temperature anomalies from 1953-2016.\n",
    "To do this, you should:\n",
    "\n",
    "1. Start by creating a new Python script called `anomaly_subplots.py` and performing steps 1-3 from Problem 1 to prepare the data for plotting.\n",
    "2. Create a yearly Pandas datetime index from 1953-2016 using the `pd.date_range()` function.\n",
    "3. Create an empty Pandas DataFrame called `seasonalData` using the index you just created and column titles 'Winter', 'Spring', 'Summer', and 'Fall'.\n",
    "4. Fill the data frame with mean anomaly temperatures (calculated in Exercise 6) for each season in each year.\n",
    "    - Assume that Winter is December-February, Spring is March-May, Summer is June-August, and Fall is September-November.\n",
    "5. Create a figure with 4 subplots in the arrangement shown above, labeling axes as needed, with gridlines on, and with a line legend for each panel.\n",
    "    - You can find tips about these different plot features in the [Matplotlib documentation](https://matplotlib.org/contents.html) and [the hints for this week's exercise](https://geo-python.github.io/2017/lessons/L7/exercise-7-hints.html).\n",
    "\n",
    "Save your Python script in GitHub and include a copy of the plot it produces in your answer to Problem 2 below.\n"
   ]
  },
  {
   "cell_type": "markdown",
   "metadata": {},
   "source": [
    "## Problem 3 - Seasonal temperature anomalies, animated (6 points)\n",
    "\n",
    "![img/Ex7-2.png](img\\Ex7-3.gif)<br/>\n",
    "*The goal for this problem is to make this kind of animation.*\n",
    "\n",
    "For Problem 3, the goal is to recreate **65 individual bar plots** that can be animated like the animation above that shows the variation in seasonal temperature anomalies\n",
    "from 1953-2016.\n",
    "\n",
    "To do this, you should:\n",
    "\n",
    "1. Start by creating a new Python script called `anomaly_barplots.py`. You should use the same data as in Problem 2.\n",
    "2. You should select data for each season of each year between 1953-2017 using the techniques that you have learned during the Lesson 7.\n",
    "    - Assume that Winter is December-February, Spring is March-May, Summer is June-August, and Fall is September-November.\n",
    "3. You should calculate the mean temperature of the **weather anomalies** (*outcome from Problem 3 in Exercise 6 last week*) based on the selected data for each season of the year. You should end up having altogether four values for each year (i.e. one for winter, spring, summer, and fall).\n",
    "4. You should create a bar plot for each year using Pandas (altogether 65 plots) that visualizes the weather anomalies in a similar manner as in the animation above (notice that the y-scale is standardized).\n",
    "5. Change the aesthetics of your plot: modify the colors of the bars (you can choose the colors yourself), and add a title, X-label (should be the year), and Y-label (you can use the same text as in the animation).\n",
    "6. You should save each of those plots into an empty folder on your disk\n",
    "7. (**optional**) After you have saved all those 65 plots into your disk, you can find information from [the hints for this week's exercise](https://geo-python.github.io/2017/lessons/L7/exercise-7-hints.html) on how to create an animation from those plots\n",
    "\n",
    "Save your Python script in GitHub and include copies of the plots that you created **OR** the animation that was produced from those plots in your answer to Problem 3 below.\n"
   ]
  },
  {
   "cell_type": "markdown",
   "metadata": {},
   "source": [
    "# Problem 4 (optional) - Comparing seasonal temperature anomalies, animated\n",
    "\n",
    "In problem 4, which is an optional task, your aim is to create a similar animation as in Problem 3 but create a 2-panel plot (2 rows, 1 column) where the upper plot\n",
    "visualizes the weather anomalies from Helsinki, and the lower visualizes the weather anomalies from **Sodankylä** (data from Problem 4 in Exercise 6 last week).\n",
    "\n",
    "Write your codes into a separate script called `anomaly_bar_subplots.py`, and add your code and the animation to GitHub."
   ]
  }
 ],
 "metadata": {
  "kernelspec": {
   "display_name": "anaconda3",
   "language": "python",
   "name": "anaconda3"
  },
  "language_info": {
   "codemirror_mode": {
    "name": "ipython",
    "version": 3
   },
   "file_extension": ".py",
   "mimetype": "text/x-python",
   "name": "python",
   "nbconvert_exporter": "python",
   "pygments_lexer": "ipython3",
   "version": "3.7.6"
  }
 },
 "nbformat": 4,
 "nbformat_minor": 4
}
