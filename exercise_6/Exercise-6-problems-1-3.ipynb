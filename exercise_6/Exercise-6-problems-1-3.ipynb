{
 "cells": [
  {
   "cell_type": "markdown",
   "metadata": {
    "deletable": false,
    "editable": false,
    "nbgrader": {
     "checksum": "988968139805d3c412f73d416a9659e5",
     "grade": false,
     "grade_id": "cell-c3cd82caefa995f8",
     "locked": true,
     "schema_version": 1,
     "solution": false
    }
   },
   "source": [
    "# Exercise 6 - Data analysis with Pandas\n",
    "\n",
    "In this week's exercise we will continue developing our skills using Pandas to analyze climate data.\n",
    "\n",
    "After making your changes, you will need to upload your changes to GitHub.\n",
    "The answers to the questions in this week's exercise should be given by modifying the document in the requested places.\n",
    "\n",
    "If you are uncertain about **the style of your code**, take a look at the **[PEP 8 - Style guide for Python code](https://www.python.org/dev/peps/pep-0008/)**.  \n",
    "\n",
    " - **Exercise 6 is due by 16:00 on 17.10.**\n",
    " - Don't forget to check out the [hints for this week's exercise](https://geo-python.github.io/2018/lessons/L6/exercise-6.html) if you're having trouble.\n",
    " - Scores on this exercise are out of 20 points.\n",
    " - There are altogether 3 problems that you should solve. The fourth problem is optional (Problem 4) for more advanced students (does not affect grading)\n",
    "\n",
    "## Data\n",
    "\n",
    "For problems 1-3 in this exercise we will be using climate data from the Helsinki-Vantaa airport station.\n",
    "For these problems, we have daily observations obtained from the [NOAA Global Historical Climatology Network](https://www.ncdc.noaa.gov/cdo-web/search?datasetid=GHCND).\n",
    "The file was downloaded using the \"Custom GHCN-Daily Text\" output format, including following attributes:\n",
    "\n",
    "| Attribute                | Description                      |\n",
    "|--------------------------|----------------------------------|\n",
    "| `STATION`                | Unique ID of the weather station |\n",
    "| `ELEVATION`              | Elevation of the station         |\n",
    "| `LATITUDE` , `LONGITUDE` | Coordinates of the station       |\n",
    "| `DATE`                   | Date of the measurement          |\n",
    "| `PRCP`                   | Precipitation                    |\n",
    "| `TAVG`                   | Average temperature              |\n",
    "| `TMAX`                   | Maximum temperature              |\n",
    "| `TMIN`                   | Minimum temperature              |\n",
    "\n",
    "The file for this problem is exactly as available from the NOAA website. You can take a [look of the data](data/1091402.txt).\n",
    "\n",
    "**Note**: once again that temperatures in this dataset are given in degrees Fahrenheit.\n",
    "\n",
    "Additional information about the data format can be found in the [hints for Exercise 6](https://geo-python.github.io/2018/lessons/L6/exercise-6-hints.html).\n"
   ]
  },
  {
   "cell_type": "markdown",
   "metadata": {
    "deletable": false,
    "editable": false,
    "nbgrader": {
     "checksum": "55ae37c25468d39910ea1cc948066db6",
     "grade": false,
     "grade_id": "cell-f2d00c67ecd9e7dc",
     "locked": true,
     "schema_version": 1,
     "solution": false
    }
   },
   "source": [
    "# Problem 1 - Reading in a tricky data file (5 points)\n",
    "\n",
    "#### Overview\n",
    "\n",
    "You first task for this exercise is to read in the data file (`data/1091402.txt`) to a variable called **`data`**.\n",
    "This should be done using the `read_csv()` -function in Pandas, and the resulting DataFrame should have the following attributes:\n",
    "\n",
    "  - The numerical values for rainfall and temperature read in as numbers\n",
    "  - The second row of the datafile should be skipped, but the text labels for the columns should be from the first row\n",
    "  - The no-data values (assigned with value **`-9999`**) should properly be converted to `NaN`\n",
    "  \n",
    "After successfully reading the data file, you should find answers programmably to specific questions below, and upload your notebook to **your own repository** for this week's exercise.\n",
    "\n",
    "You can find hints about how to do these things in the [description of Exercise 5 Problem 1](https://github.com/Geo-Python-2018/Exercise-5/blob/master/Pandas/Exercise-5-problem1.ipynb) and the [hints for Exercise 6](https://geo-python.github.io/2018/lessons/L6/exercise-6.html).\n"
   ]
  },
  {
   "cell_type": "markdown",
   "metadata": {
    "deletable": false,
    "editable": false,
    "nbgrader": {
     "checksum": "ead53e63ab82ebf9ddeff41fadeb90f8",
     "grade": false,
     "grade_id": "cell-52cc9f4650eada57",
     "locked": true,
     "schema_version": 1,
     "solution": false
    }
   },
   "source": [
    "1. Read the file into variable **data**\n",
    "   - Skip the second row\n",
    "   - Convert the no-data values into `NaN` (values -9999)"
   ]
  },
  {
   "cell_type": "code",
   "execution_count": 1,
   "metadata": {},
   "outputs": [],
   "source": [
    "# YOUR CODE HERE\n",
    "# raise NotImplementedError()\n",
    "import pandas as pd"
   ]
  },
  {
   "cell_type": "code",
   "execution_count": 2,
   "metadata": {
    "deletable": false,
    "nbgrader": {
     "checksum": "1b1c13860a674aeb3aa2a5b0ac028550",
     "grade": false,
     "grade_id": "read_file",
     "locked": false,
     "schema_version": 1,
     "solution": true
    }
   },
   "outputs": [
    {
     "name": "stdout",
     "output_type": "stream",
     "text": [
      "Index(['STATION', 'ELEVATION', 'LATITUDE', 'LONGITUDE', 'DATE', 'PRCP', 'TAVG',\n",
      "       'TMAX', 'TMIN'],\n",
      "      dtype='object')\n",
      "(23716, 9)\n"
     ]
    }
   ],
   "source": [
    "fp = r\"data/1091402.txt\"\n",
    "data = pd.read_csv(fp, sep='\\s+', skiprows=[1], na_values=-9999) # sep= '\\s+' means that the data is separeted by 1 single white space or more.\n",
    "\n",
    "# Data columns\n",
    "print(data.columns)\n",
    "# dataframe shape\n",
    "print(data.shape)"
   ]
  },
  {
   "cell_type": "code",
   "execution_count": 3,
   "metadata": {
    "deletable": false,
    "editable": false,
    "nbgrader": {
     "checksum": "6476b610931387386d6d059724c8bfee",
     "grade": true,
     "grade_id": "read_file_tests",
     "locked": true,
     "points": 1.5,
     "schema_version": 1,
     "solution": false
    }
   },
   "outputs": [
    {
     "name": "stdout",
     "output_type": "stream",
     "text": [
      "             STATION  ELEVATION  LATITUDE  LONGITUDE      DATE  PRCP  TAVG  \\\n",
      "0  GHCND:FIE00142080         51   60.3269    24.9603  19520101  0.31  37.0   \n",
      "\n",
      "   TMAX  TMIN  \n",
      "0  39.0  34.0  \n"
     ]
    }
   ],
   "source": [
    "# Test print that should work\n",
    "print(data.head(1))\n"
   ]
  },
  {
   "cell_type": "markdown",
   "metadata": {
    "deletable": false,
    "editable": false,
    "nbgrader": {
     "checksum": "a9727efb2028046144c74fea68fee636",
     "grade": false,
     "grade_id": "cell-7f848d5f8acf3a0f",
     "locked": true,
     "schema_version": 1,
     "solution": false
    }
   },
   "source": [
    "- How many no-data values (NaN) are there for **`TAVG`**?\n",
    "  - Assign your answer into a variable called **`tavg_nodata_count`**\n"
   ]
  },
  {
   "cell_type": "code",
   "execution_count": 4,
   "metadata": {
    "deletable": false,
    "nbgrader": {
     "checksum": "91b99d39318d4cbe0842cededa86c3cf",
     "grade": false,
     "grade_id": "tavg_nodata_count",
     "locked": false,
     "schema_version": 1,
     "solution": true
    }
   },
   "outputs": [],
   "source": [
    "# How many no-data values?\n",
    "tavg_nodata_count = data.TAVG.isna().sum() # isna() search for NaN values, sum() wil sum those values together\n",
    "# YOUR CODE HERE \n",
    "# raise NotImplementedError()"
   ]
  },
  {
   "cell_type": "code",
   "execution_count": 5,
   "metadata": {
    "deletable": false,
    "editable": false,
    "nbgrader": {
     "checksum": "ac6b57aedfc4ae8c219f2aed56e5f2d8",
     "grade": true,
     "grade_id": "tavg_nodata_count_tests",
     "locked": true,
     "points": 0.5,
     "schema_version": 1,
     "solution": false
    },
    "scrolled": true
   },
   "outputs": [
    {
     "name": "stdout",
     "output_type": "stream",
     "text": [
      "3308\n"
     ]
    }
   ],
   "source": [
    "# This test print should print a number\n",
    "print(tavg_nodata_count)\n"
   ]
  },
  {
   "cell_type": "markdown",
   "metadata": {
    "deletable": false,
    "editable": false,
    "nbgrader": {
     "checksum": "6c1c2341f6ccddb5a180a4a179ac6c8e",
     "grade": false,
     "grade_id": "cell-600c96096b421522",
     "locked": true,
     "schema_version": 1,
     "solution": false
    }
   },
   "source": [
    "- How many no-data values (NaN) are there for `TMIN`?\n",
    "  - Assign your answer into a variable called **`tmin_nodata_count`**\n"
   ]
  },
  {
   "cell_type": "code",
   "execution_count": 6,
   "metadata": {
    "deletable": false,
    "nbgrader": {
     "checksum": "8e0d1edc16aedb93d9e4abb3094969d7",
     "grade": false,
     "grade_id": "tmin_nodata_count",
     "locked": false,
     "schema_version": 1,
     "solution": true
    }
   },
   "outputs": [],
   "source": [
    "# How many no-data values?\n",
    "tmin_nodata_count = data['TMIN'].isna().sum()\n",
    "\n",
    "# YOUR CODE HERE\n",
    "# raise NotImplementedError()"
   ]
  },
  {
   "cell_type": "code",
   "execution_count": 7,
   "metadata": {
    "deletable": false,
    "editable": false,
    "nbgrader": {
     "checksum": "24e53727c0ef698df8bf044eceafd0f8",
     "grade": true,
     "grade_id": "tmin_nodata_count_tests",
     "locked": true,
     "points": 0.5,
     "schema_version": 1,
     "solution": false
    }
   },
   "outputs": [
    {
     "name": "stdout",
     "output_type": "stream",
     "text": [
      "365\n"
     ]
    }
   ],
   "source": [
    "# This test print should print a number\n",
    "print(tmin_nodata_count)\n"
   ]
  },
  {
   "cell_type": "markdown",
   "metadata": {
    "deletable": false,
    "editable": false,
    "nbgrader": {
     "checksum": "4062abbcb7b6a3a01baae89e2aa08f10",
     "grade": false,
     "grade_id": "cell-25998b4f0d14e8f0",
     "locked": true,
     "schema_version": 1,
     "solution": false
    }
   },
   "source": [
    "- How many days total are covered by this data file?\n",
    "  - Assign your answer into a variable called **`day_count`**\n"
   ]
  },
  {
   "cell_type": "code",
   "execution_count": 8,
   "metadata": {
    "deletable": false,
    "nbgrader": {
     "checksum": "d9fc6f8212ffb11db2f99cf5581eb46b",
     "grade": false,
     "grade_id": "day_count",
     "locked": false,
     "schema_version": 1,
     "solution": true
    }
   },
   "outputs": [],
   "source": [
    "# How many days?\n",
    "day_count = data.DATE.count() # count() will coint the number of dates in the data set\n",
    "\n",
    "# YOUR CODE HERE\n",
    "# raise NotImplementedError()"
   ]
  },
  {
   "cell_type": "code",
   "execution_count": 9,
   "metadata": {
    "deletable": false,
    "editable": false,
    "nbgrader": {
     "checksum": "acd72741f24e13874f75afe110c025ff",
     "grade": true,
     "grade_id": "day_count_tests",
     "locked": true,
     "points": 0.5,
     "schema_version": 1,
     "solution": false
    }
   },
   "outputs": [
    {
     "name": "stdout",
     "output_type": "stream",
     "text": [
      "23716\n"
     ]
    }
   ],
   "source": [
    "# This test print should print a number\n",
    "print(day_count)\n"
   ]
  },
  {
   "cell_type": "markdown",
   "metadata": {
    "deletable": false,
    "editable": false,
    "nbgrader": {
     "checksum": "686f79babf0eb698a217f70135dbd0e9",
     "grade": false,
     "grade_id": "cell-424dcdef3dde1b89",
     "locked": true,
     "schema_version": 1,
     "solution": false
    }
   },
   "source": [
    "- When was the first observation made (i.e. the oldest)?\n",
    "  - Assign your answer into a variable called **`first_obs`**\n"
   ]
  },
  {
   "cell_type": "code",
   "execution_count": 10,
   "metadata": {
    "deletable": false,
    "nbgrader": {
     "checksum": "644b73bbd7ebdcf0ce74b47da2f1af1a",
     "grade": false,
     "grade_id": "first_observation",
     "locked": false,
     "schema_version": 1,
     "solution": true
    }
   },
   "outputs": [],
   "source": [
    "# YOUR CODE HERE\n",
    "# raise NotImplementedError()\n",
    "# Sort the data in ascending order\n",
    "data = data.sort_values(by = 'DATE', ascending = True)\n",
    "\n",
    "# Use iloc[<index_num>, dataframe.columns.get_loc(<'column'>)] to return the value of specific column cell \n",
    "# first_obs = data.iloc[0, data.columns.get_loc('DATE')]\n",
    "first_obs = data['DATE'].min()"
   ]
  },
  {
   "cell_type": "code",
   "execution_count": 11,
   "metadata": {
    "deletable": false,
    "editable": false,
    "nbgrader": {
     "checksum": "fe830dda7b34b82cfa75a1a505f9be03",
     "grade": true,
     "grade_id": "first_observation_tests",
     "locked": true,
     "points": 0.5,
     "schema_version": 1,
     "solution": false
    }
   },
   "outputs": [
    {
     "name": "stdout",
     "output_type": "stream",
     "text": [
      "19520101\n"
     ]
    }
   ],
   "source": [
    "# This test print should print a number\n",
    "print(first_obs)\n"
   ]
  },
  {
   "cell_type": "markdown",
   "metadata": {
    "deletable": false,
    "editable": false,
    "nbgrader": {
     "checksum": "be4eb61b5283cd2e644a8a0ecb9a7e5d",
     "grade": false,
     "grade_id": "cell-1a9a82e0f837ac34",
     "locked": true,
     "schema_version": 1,
     "solution": false
    }
   },
   "source": [
    "- When was the last observation made (i.e. the most recent)?\n",
    "  - Assign your answer into a variable called **`last_obs`**"
   ]
  },
  {
   "cell_type": "code",
   "execution_count": 12,
   "metadata": {
    "deletable": false,
    "nbgrader": {
     "checksum": "50f101af15641ea140c067553635de2a",
     "grade": false,
     "grade_id": "last_observation",
     "locked": false,
     "schema_version": 1,
     "solution": true
    }
   },
   "outputs": [],
   "source": [
    "# YOUR CODE HERE\n",
    "# raise NotImplementedError()\n",
    "\n",
    "# Sort the data in descending order\n",
    "# last_obs = data.sort_values(by='DATE', ascending=False).iloc[0, data.columns.get_loc('DATE')] # all in one column \n",
    "last_obs = data['DATE'].max()"
   ]
  },
  {
   "cell_type": "code",
   "execution_count": 13,
   "metadata": {
    "deletable": false,
    "editable": false,
    "nbgrader": {
     "checksum": "be2eed6a43769ed677438b643b35f223",
     "grade": true,
     "grade_id": "last_observation_tests",
     "locked": true,
     "points": 0.5,
     "schema_version": 1,
     "solution": false
    }
   },
   "outputs": [
    {
     "name": "stdout",
     "output_type": "stream",
     "text": [
      "20171004\n"
     ]
    }
   ],
   "source": [
    "# This test print should print a number\n",
    "print(last_obs)\n"
   ]
  },
  {
   "cell_type": "markdown",
   "metadata": {
    "deletable": false,
    "editable": false,
    "nbgrader": {
     "checksum": "582d67c138d7affcbc1d567174775d5c",
     "grade": false,
     "grade_id": "cell-3fbd149c1e58a16c",
     "locked": true,
     "schema_version": 1,
     "solution": false
    }
   },
   "source": [
    "- What was the average temperature of the whole data file (all years)?\n",
    "  - Assign your answer into a variable called **`avg_temp`**"
   ]
  },
  {
   "cell_type": "code",
   "execution_count": 14,
   "metadata": {
    "deletable": false,
    "nbgrader": {
     "checksum": "817e554980d384801ca9c57474f435c5",
     "grade": false,
     "grade_id": "avg_temp",
     "locked": false,
     "schema_version": 1,
     "solution": true
    }
   },
   "outputs": [],
   "source": [
    "# YOUR CODE HERE\n",
    "# raise NotImplementedError()\n",
    "avg_temp = data.TAVG.mean()"
   ]
  },
  {
   "cell_type": "code",
   "execution_count": 15,
   "metadata": {
    "deletable": false,
    "editable": false,
    "nbgrader": {
     "checksum": "5e5239a3e35fc0f0e01a5d96c40fb77b",
     "grade": true,
     "grade_id": "avg_temp_test",
     "locked": true,
     "points": 0.5,
     "schema_version": 1,
     "solution": false
    }
   },
   "outputs": [
    {
     "name": "stdout",
     "output_type": "stream",
     "text": [
      "41.32408859270874\n"
     ]
    }
   ],
   "source": [
    "# This test print should print a number\n",
    "print(avg_temp)\n"
   ]
  },
  {
   "cell_type": "markdown",
   "metadata": {
    "deletable": false,
    "editable": false,
    "nbgrader": {
     "checksum": "f4ba778c35a7aeba9d31f5d3a519af5c",
     "grade": false,
     "grade_id": "cell-784617d6edc656a6",
     "locked": true,
     "schema_version": 1,
     "solution": false
    }
   },
   "source": [
    "- What was the **`TMAX`** temperature of the ``Summer 69`` (i.e. including months May, June, July, August of the year 1969)?\n",
    "  - Assign your answer into a variable called **`avg_temp_69`**"
   ]
  },
  {
   "cell_type": "code",
   "execution_count": 16,
   "metadata": {
    "deletable": false,
    "nbgrader": {
     "checksum": "5a6ab76f5242afe2e6244e446aacfccc",
     "grade": false,
     "grade_id": "avg_temp_69",
     "locked": false,
     "schema_version": 1,
     "solution": true
    }
   },
   "outputs": [],
   "source": [
    "# YOUR CODE HERE\n",
    "# raise NotImplementedError()\n",
    "\n",
    "# define condition for DATE column in order to filter the data in the dataframe\n",
    "avg_temp_69 = data.loc[(data.DATE >= 19690501) & (data.DATE<= 19690831)]\n",
    "\n",
    "# Asign the  mean value of column TAVG to a variable\n",
    "avg_temp_69 = avg_temp_69.TAVG.mean()"
   ]
  },
  {
   "cell_type": "code",
   "execution_count": 17,
   "metadata": {
    "deletable": false,
    "editable": false,
    "nbgrader": {
     "checksum": "ad202a4bc6064555ad6d604359595c95",
     "grade": true,
     "grade_id": "avg_temp_69_tests",
     "locked": true,
     "points": 0.5,
     "schema_version": 1,
     "solution": false
    }
   },
   "outputs": [
    {
     "name": "stdout",
     "output_type": "stream",
     "text": [
      "nan\n"
     ]
    }
   ],
   "source": [
    "# This test print should print a number\n",
    "print(avg_temp_69)\n"
   ]
  },
  {
   "cell_type": "markdown",
   "metadata": {
    "deletable": false,
    "editable": false,
    "nbgrader": {
     "checksum": "c5f14a019d63302411b172cd778b1539",
     "grade": false,
     "grade_id": "cell-beeb38c1b8d3eb13",
     "locked": true,
     "schema_version": 1,
     "solution": false
    }
   },
   "source": [
    "# Problem 2 - Calculating monthly average temperatures (7.5 points)\n",
    "\n",
    "For this problem your goal is to calculate monthly average temperature values in degrees Celsius from the daily values we have in the data file. You can use the approaches taught in Lessons 4,5 and 6 to solve this.\n",
    "You can again consult the [hints for Exercise 6](https://geo-python.github.io/2018/lessons/L6/exercise-6-hints.html) if you are stuck.\n",
    "\n",
    "**You can continue working with the same data that you used in Problem 1.**\n",
    "\n",
    "#### For this problem you should modify:\n",
    "\n",
    "1. Calculate the monthly average temperatures for the entire data (i.e. for each year separately) file using the approach taught in the lecture.\n",
    "    - You should store the average temperatures into a new Pandas DataFrame called **`monthly_data`**.\n",
    "2. Create a new column called **`temp_celsius`** into the **`monthly_data`** DataFrame that has the monthly temperatures in Celsius.   \n",
    "   - Store also the information about the date into column **`DATE_m`** (which should be a string column with month and year info) and the **`TAVG`** values into the `monthly_data` DataFrame.\n",
    "3. Update and commit your changes to the notebook in your **own repository** of this week's exercise."
   ]
  },
  {
   "cell_type": "code",
   "execution_count": 18,
   "metadata": {},
   "outputs": [
    {
     "data": {
      "text/html": [
       "<div>\n",
       "<style scoped>\n",
       "    .dataframe tbody tr th:only-of-type {\n",
       "        vertical-align: middle;\n",
       "    }\n",
       "\n",
       "    .dataframe tbody tr th {\n",
       "        vertical-align: top;\n",
       "    }\n",
       "\n",
       "    .dataframe thead th {\n",
       "        text-align: right;\n",
       "    }\n",
       "</style>\n",
       "<table border=\"1\" class=\"dataframe\">\n",
       "  <thead>\n",
       "    <tr style=\"text-align: right;\">\n",
       "      <th></th>\n",
       "      <th>STATION</th>\n",
       "      <th>ELEVATION</th>\n",
       "      <th>LATITUDE</th>\n",
       "      <th>LONGITUDE</th>\n",
       "      <th>DATE</th>\n",
       "      <th>PRCP</th>\n",
       "      <th>TAVG</th>\n",
       "      <th>TMAX</th>\n",
       "      <th>TMIN</th>\n",
       "    </tr>\n",
       "  </thead>\n",
       "  <tbody>\n",
       "    <tr>\n",
       "      <td>0</td>\n",
       "      <td>GHCND:FIE00142080</td>\n",
       "      <td>51</td>\n",
       "      <td>60.3269</td>\n",
       "      <td>24.9603</td>\n",
       "      <td>19520101</td>\n",
       "      <td>0.31</td>\n",
       "      <td>37.0</td>\n",
       "      <td>39.0</td>\n",
       "      <td>34.0</td>\n",
       "    </tr>\n",
       "    <tr>\n",
       "      <td>1</td>\n",
       "      <td>GHCND:FIE00142080</td>\n",
       "      <td>51</td>\n",
       "      <td>60.3269</td>\n",
       "      <td>24.9603</td>\n",
       "      <td>19520102</td>\n",
       "      <td>NaN</td>\n",
       "      <td>35.0</td>\n",
       "      <td>37.0</td>\n",
       "      <td>34.0</td>\n",
       "    </tr>\n",
       "    <tr>\n",
       "      <td>2</td>\n",
       "      <td>GHCND:FIE00142080</td>\n",
       "      <td>51</td>\n",
       "      <td>60.3269</td>\n",
       "      <td>24.9603</td>\n",
       "      <td>19520103</td>\n",
       "      <td>0.14</td>\n",
       "      <td>33.0</td>\n",
       "      <td>36.0</td>\n",
       "      <td>NaN</td>\n",
       "    </tr>\n",
       "    <tr>\n",
       "      <td>3</td>\n",
       "      <td>GHCND:FIE00142080</td>\n",
       "      <td>51</td>\n",
       "      <td>60.3269</td>\n",
       "      <td>24.9603</td>\n",
       "      <td>19520104</td>\n",
       "      <td>0.05</td>\n",
       "      <td>29.0</td>\n",
       "      <td>30.0</td>\n",
       "      <td>25.0</td>\n",
       "    </tr>\n",
       "    <tr>\n",
       "      <td>4</td>\n",
       "      <td>GHCND:FIE00142080</td>\n",
       "      <td>51</td>\n",
       "      <td>60.3269</td>\n",
       "      <td>24.9603</td>\n",
       "      <td>19520105</td>\n",
       "      <td>0.06</td>\n",
       "      <td>27.0</td>\n",
       "      <td>30.0</td>\n",
       "      <td>25.0</td>\n",
       "    </tr>\n",
       "  </tbody>\n",
       "</table>\n",
       "</div>"
      ],
      "text/plain": [
       "             STATION  ELEVATION  LATITUDE  LONGITUDE      DATE  PRCP  TAVG  \\\n",
       "0  GHCND:FIE00142080         51   60.3269    24.9603  19520101  0.31  37.0   \n",
       "1  GHCND:FIE00142080         51   60.3269    24.9603  19520102   NaN  35.0   \n",
       "2  GHCND:FIE00142080         51   60.3269    24.9603  19520103  0.14  33.0   \n",
       "3  GHCND:FIE00142080         51   60.3269    24.9603  19520104  0.05  29.0   \n",
       "4  GHCND:FIE00142080         51   60.3269    24.9603  19520105  0.06  27.0   \n",
       "\n",
       "   TMAX  TMIN  \n",
       "0  39.0  34.0  \n",
       "1  37.0  34.0  \n",
       "2  36.0   NaN  \n",
       "3  30.0  25.0  \n",
       "4  30.0  25.0  "
      ]
     },
     "execution_count": 18,
     "metadata": {},
     "output_type": "execute_result"
    }
   ],
   "source": [
    "# Print first five rows of the dataframe to review the structure of it\n",
    "data.head()"
   ]
  },
  {
   "cell_type": "code",
   "execution_count": 19,
   "metadata": {
    "deletable": false,
    "nbgrader": {
     "checksum": "624926dd8c80aeb9e54758f935a56203",
     "grade": false,
     "grade_id": "monthly_averages",
     "locked": false,
     "schema_version": 1,
     "solution": true
    },
    "slideshow": {
     "slide_type": ""
    }
   },
   "outputs": [
    {
     "name": "stdout",
     "output_type": "stream",
     "text": [
      "0    195201\n",
      "1    195201\n",
      "2    195201\n",
      "3    195201\n",
      "4    195201\n",
      "Name: YM, dtype: object\n",
      "\n",
      "Data type of the column YM is:\n",
      "<class 'str'>\n"
     ]
    }
   ],
   "source": [
    "# YOUR CODE HERE\n",
    "# raise NotImplementedError()\n",
    "\n",
    "# Create year-month, month columns\n",
    "data['YM'] = (data['DATE'].astype(str)).str.slice(start=0, stop= 6)\n",
    "data['monthNumber'] = (data['DATE'].astype(str)).str.slice(start=4, stop= 6)\n",
    "\n",
    "# print head of the new column\n",
    "print(data['YM'].head())\n",
    "\n",
    "# Check the data type for the column 'DATE_m' is string\n",
    "print('\\nData type of the column YM is:')\n",
    "print(type(data.iloc[0, data.columns.get_loc('YM')]))"
   ]
  },
  {
   "cell_type": "code",
   "execution_count": 20,
   "metadata": {},
   "outputs": [],
   "source": [
    "# Crete function to convert Fahrenheits to Celsuis\n",
    "def fahrToCelsius(temp_fahrenheit):\n",
    "    \"\"\"\n",
    "    Function to convert Fahrenheit temperature into Celsius.\n",
    "\n",
    "    Parameters\n",
    "    ----------\n",
    "\n",
    "    temp_fahrenheit: int | float\n",
    "        Input temperature in Fahrenheit (should be a number)\n",
    "        \n",
    "    Returns\n",
    "    -------\n",
    "    \n",
    "    Temperature in Celsius (float)\n",
    "    \"\"\"\n",
    "\n",
    "    # Convert the Fahrenheit into Celsius and return it\n",
    "    converted_temp = (temp_fahrenheit - 32) / 1.8\n",
    "    return converted_temp\n",
    "    "
   ]
  },
  {
   "cell_type": "code",
   "execution_count": 21,
   "metadata": {},
   "outputs": [
    {
     "name": "stdout",
     "output_type": "stream",
     "text": [
      "Wall time: 42.5 ms\n"
     ]
    }
   ],
   "source": [
    "%%time\n",
    "\"\"\" Create a new column called temp_celsius containing monthly temperatures in Celsius \"\"\"\n",
    "\n",
    "# Convert Temperatures to Celsius \n",
    "data['TAVG_Celsius'] = fahrToCelsius(data['TAVG'])"
   ]
  },
  {
   "cell_type": "code",
   "execution_count": 22,
   "metadata": {},
   "outputs": [],
   "source": [
    "# Create a new empty Dataframe\n",
    "monthly_data = pd.DataFrame()"
   ]
  },
  {
   "cell_type": "markdown",
   "metadata": {},
   "source": [
    "Ahaa! As we can see, a single group contains a **DataFrame** with values only for that specific month.\n",
    "This is really useful, because now we can calculate e.g. the average values for all weather measurements (+ month or even hour if we want to) that we have (you can use any of the statistical functions that we have seen already, e.g. mean, std, min, max, median, etc.).\n",
    "\n",
    "We can do that by using the **`mean()`** -function that we already used during the Lesson 5. \n",
    "\n",
    "- Let's calculate the mean for following attributes (let's see how to do them all at once!): \n",
    "   - ``PRCP``, \n",
    "   - ``TAVG``, \n",
    "   - ``TMAX``, \n",
    "   - ``TMIN``, \n",
    "   - ``Celsius``."
   ]
  },
  {
   "cell_type": "markdown",
   "metadata": {},
   "source": [
    "<b>Great!...</b>\n",
    "\n",
    "Let's add these values to the dataframe created a few steps above."
   ]
  },
  {
   "cell_type": "code",
   "execution_count": 23,
   "metadata": {},
   "outputs": [
    {
     "name": "stdout",
     "output_type": "stream",
     "text": [
      "Wall time: 8.12 s\n"
     ]
    },
    {
     "data": {
      "text/html": [
       "<div>\n",
       "<style scoped>\n",
       "    .dataframe tbody tr th:only-of-type {\n",
       "        vertical-align: middle;\n",
       "    }\n",
       "\n",
       "    .dataframe tbody tr th {\n",
       "        vertical-align: top;\n",
       "    }\n",
       "\n",
       "    .dataframe thead th {\n",
       "        text-align: right;\n",
       "    }\n",
       "</style>\n",
       "<table border=\"1\" class=\"dataframe\">\n",
       "  <thead>\n",
       "    <tr style=\"text-align: right;\">\n",
       "      <th></th>\n",
       "      <th>YM</th>\n",
       "      <th>monthNumber</th>\n",
       "      <th>TAVG_Celsius</th>\n",
       "    </tr>\n",
       "  </thead>\n",
       "  <tbody>\n",
       "    <tr>\n",
       "      <td>0</td>\n",
       "      <td>195201</td>\n",
       "      <td>01</td>\n",
       "      <td>-1.400966</td>\n",
       "    </tr>\n",
       "    <tr>\n",
       "      <td>1</td>\n",
       "      <td>195202</td>\n",
       "      <td>02</td>\n",
       "      <td>-4.000000</td>\n",
       "    </tr>\n",
       "    <tr>\n",
       "      <td>2</td>\n",
       "      <td>195203</td>\n",
       "      <td>03</td>\n",
       "      <td>-10.106838</td>\n",
       "    </tr>\n",
       "    <tr>\n",
       "      <td>3</td>\n",
       "      <td>195204</td>\n",
       "      <td>04</td>\n",
       "      <td>4.226190</td>\n",
       "    </tr>\n",
       "    <tr>\n",
       "      <td>4</td>\n",
       "      <td>195205</td>\n",
       "      <td>05</td>\n",
       "      <td>7.037037</td>\n",
       "    </tr>\n",
       "  </tbody>\n",
       "</table>\n",
       "</div>"
      ],
      "text/plain": [
       "       YM monthNumber  TAVG_Celsius\n",
       "0  195201          01     -1.400966\n",
       "1  195202          02     -4.000000\n",
       "2  195203          03    -10.106838\n",
       "3  195204          04      4.226190\n",
       "4  195205          05      7.037037"
      ]
     },
     "execution_count": 23,
     "metadata": {},
     "output_type": "execute_result"
    }
   ],
   "source": [
    "%%time\n",
    "\n",
    "# testing \n",
    "monthlyData = pd.DataFrame() # Create empty dataframe\n",
    "\n",
    "grouped_month = data.groupby('YM') # Group data dataframe by 'YM' column\n",
    "\n",
    "# Aggregate data\n",
    "for key, group in grouped_month: # Iterate over dataframe\n",
    "    mean_value = group[['TAVG_Celsius']].mean() # Calculate mean() value for columns\n",
    "    mean_value['YM'] = key # Define key as new column 'YM' \n",
    "    mean_value['monthNumber'] = key[4:6] # Define new column 'monthNumber'\n",
    "    monthlyData = monthlyData.append(mean_value, ignore_index=True) # append new columns to dataframe\n",
    "    \n",
    "    \n",
    "monthlyData = monthlyData[['YM', 'monthNumber', 'TAVG_Celsius']] # re-organize dataframe\n",
    "\n",
    "monthlyData.head() \n",
    "    "
   ]
  },
  {
   "cell_type": "code",
   "execution_count": null,
   "metadata": {
    "deletable": false,
    "editable": false,
    "nbgrader": {
     "checksum": "73e9e1c90aa1b842dcc2b915b7aa3710",
     "grade": true,
     "grade_id": "monthly_averages_tests",
     "locked": true,
     "points": 7.5,
     "schema_version": 1,
     "solution": false
    }
   },
   "outputs": [],
   "source": []
  },
  {
   "cell_type": "markdown",
   "metadata": {
    "deletable": false,
    "editable": false,
    "nbgrader": {
     "checksum": "9de1ed207173b8a65cc217ff753a77c5",
     "grade": false,
     "grade_id": "cell-ccd31e45c30df3ec",
     "locked": true,
     "schema_version": 1,
     "solution": false
    }
   },
   "source": [
    "# Problem 3 - Calculating temperature anomalies (7.5 points)\n",
    "\n",
    "Our goal in this problem is to calculate monthly temperature anomalies in order to see how temperatures have changed over time, relative to the observation period between 1952-1980.\n",
    "\n",
    "We will again continue working with this same notebook.\n",
    "\n",
    "In order to complete the problem, you must do following things:\n",
    "\n",
    "- You need to calculate a mean temperature ***for each month*** over the period 1952-1980 using the data in the data file.\n",
    " As a result, you should end up with 12 values, 1 mean temperature for each month in that period, and store them in a new Pandas DataFrame called **`reference_temps`**.  \n",
    "   - The columns in the new DataFrame should be titled `Month` and `ref_temp`. \n",
    "   \n",
    "For example, your `reference_temps` data should be something like that below, 1 value for each month of the year (12 total):\n",
    "   \n",
    "| Month    | ref_temp         |\n",
    "|----------|------------------|\n",
    "| 01       | -5.350916        |\n",
    "| 02       | -5.941307        |\n",
    "| 03       | -2.440364        |\n",
    "| ...      | ...              |\n",
    "   \n",
    "*Remember, these temperatures should be in degrees Celsius.*\n",
    "\n",
    "- Once you have the monthly mean values for each of the 12 months, you can then calculate a temperature anomaly for every month in the `monthly_data` DataFrame.\n",
    "- The temperature anomaly we want to calculate is simply the temperature for one month in `monthly_data` (`temp_celsius` -column) minus the corresponding monthly reference temperature in `ref_temp` column of `reference_temps` DataFrame. \n",
    "    - Hint: You need to make a table join (see hints for this week)\n",
    "- You should thus end up with three new columns in the `monthly_data` DataFrame: \n",
    "\n",
    "    1. **`Diff`**  showing the temperature anomaly, the difference in temperature for a given month (e.g., February 1960) compared to the average (e.g., for February 1952-1980), \n",
    "    2. **`Month`** indicating the month, and \n",
    "    3. **`ref_temp`** indicating the (monthly) reference temperature.\n",
    "- Update and commit your changes to the notebook in your **own repository** of this week's exercise.\n"
   ]
  },
  {
   "cell_type": "markdown",
   "metadata": {},
   "source": [
    "### Get the month from the year_month column called **`data['DATE_m']`**"
   ]
  },
  {
   "cell_type": "code",
   "execution_count": 24,
   "metadata": {},
   "outputs": [],
   "source": [
    "# # Create a datetype column \n",
    "# data['DATE_datetime'] = pd.to_datetime(data['DATE'], format='%Y%m%d')\n",
    "\n",
    "# # Create datatime index\n",
    "# timeindex = pd.DatetimeIndex(data['DATE_datetime'])\n",
    "\n",
    "# # Create copy Dataframe with certain columns\n",
    "# monthlyData = pd.Series(list(data['TAVG']), index= timeindex)\n",
    "\n",
    "# # Resample by month\n",
    "# ts = monthlyData.resample('1M',).mean()\n",
    "\n",
    "# print(ts.head())"
   ]
  },
  {
   "cell_type": "code",
   "execution_count": 25,
   "metadata": {},
   "outputs": [],
   "source": [
    "# Create months dictionary\n",
    "months_dict = pd.DataFrame({'monthNumber': ['01','02','03','04','05','06','07','08','09','10','11','12']\n",
    "                            ,'month': ['January','February','March','April','May','June','July','August','September','October','November','December']})\n",
    "\n",
    "# Choose period\n",
    "period = data.loc[data['DATE']<19810101]\n",
    "\n",
    "# Reset index for period\n",
    "period = period.reset_index(drop=True)\n"
   ]
  },
  {
   "cell_type": "code",
   "execution_count": 26,
   "metadata": {
    "deletable": false,
    "nbgrader": {
     "checksum": "69525367033fce390f9150713e4023d2",
     "grade": false,
     "grade_id": "temperature_anomaly",
     "locked": false,
     "schema_version": 1,
     "solution": true
    }
   },
   "outputs": [
    {
     "name": "stdout",
     "output_type": "stream",
     "text": [
      "Wall time: 70.9 ms\n"
     ]
    }
   ],
   "source": [
    "%%time\n",
    "# YOUR CODE HERE\n",
    "\n",
    "# Create a empty dataframe\n",
    "referenceTemps = pd.DataFrame()\n",
    "\n",
    "# Group by month\n",
    "grouped_period = period.groupby('monthNumber')\n",
    "\n",
    "# Iterate over groups\n",
    "for key, group in grouped_period:\n",
    "    row = group[['TAVG_Celsius']].mean()\n",
    "    row['monthNumber'] = key\n",
    "    referenceTemps = referenceTemps.append(row, ignore_index= True)\n",
    "    \n",
    "# Rename columns\n",
    "referenceTemps = referenceTemps.rename(columns= {'TAVG_Celsius': 'avgTempsC'})\n",
    "    "
   ]
  },
  {
   "cell_type": "code",
   "execution_count": 27,
   "metadata": {},
   "outputs": [
    {
     "data": {
      "text/html": [
       "<div>\n",
       "<style scoped>\n",
       "    .dataframe tbody tr th:only-of-type {\n",
       "        vertical-align: middle;\n",
       "    }\n",
       "\n",
       "    .dataframe tbody tr th {\n",
       "        vertical-align: top;\n",
       "    }\n",
       "\n",
       "    .dataframe thead th {\n",
       "        text-align: right;\n",
       "    }\n",
       "</style>\n",
       "<table border=\"1\" class=\"dataframe\">\n",
       "  <thead>\n",
       "    <tr style=\"text-align: right;\">\n",
       "      <th></th>\n",
       "      <th>YM</th>\n",
       "      <th>monthNumber</th>\n",
       "      <th>TAVG_Celsius</th>\n",
       "    </tr>\n",
       "  </thead>\n",
       "  <tbody>\n",
       "    <tr>\n",
       "      <td>0</td>\n",
       "      <td>195201</td>\n",
       "      <td>01</td>\n",
       "      <td>-1.400966</td>\n",
       "    </tr>\n",
       "    <tr>\n",
       "      <td>1</td>\n",
       "      <td>195202</td>\n",
       "      <td>02</td>\n",
       "      <td>-4.000000</td>\n",
       "    </tr>\n",
       "    <tr>\n",
       "      <td>2</td>\n",
       "      <td>195203</td>\n",
       "      <td>03</td>\n",
       "      <td>-10.106838</td>\n",
       "    </tr>\n",
       "    <tr>\n",
       "      <td>3</td>\n",
       "      <td>195204</td>\n",
       "      <td>04</td>\n",
       "      <td>4.226190</td>\n",
       "    </tr>\n",
       "    <tr>\n",
       "      <td>4</td>\n",
       "      <td>195205</td>\n",
       "      <td>05</td>\n",
       "      <td>7.037037</td>\n",
       "    </tr>\n",
       "  </tbody>\n",
       "</table>\n",
       "</div>"
      ],
      "text/plain": [
       "       YM monthNumber  TAVG_Celsius\n",
       "0  195201          01     -1.400966\n",
       "1  195202          02     -4.000000\n",
       "2  195203          03    -10.106838\n",
       "3  195204          04      4.226190\n",
       "4  195205          05      7.037037"
      ]
     },
     "execution_count": 27,
     "metadata": {},
     "output_type": "execute_result"
    }
   ],
   "source": [
    "referenceTemps.head()\n",
    "monthlyData.head()"
   ]
  },
  {
   "cell_type": "code",
   "execution_count": 28,
   "metadata": {},
   "outputs": [],
   "source": [
    "# Merge columns\n",
    "referenceTemps = referenceTemps.merge(months_dict, on= 'monthNumber')\n",
    "\n",
    "# Join monthyData and referenceTemps\n",
    "\n",
    "monthlyData = monthlyData.merge(referenceTemps, how= 'left', on='monthNumber', sort=False) # NOT WORKING\n",
    "\n",
    "# Compare temperatures\n",
    "monthlyData['Diff'] = monthlyData['TAVG_Celsius'] - monthlyData['avgTempsC']\n",
    "\n",
    "\n"
   ]
  },
  {
   "cell_type": "code",
   "execution_count": 32,
   "metadata": {},
   "outputs": [
    {
     "data": {
      "text/html": [
       "<div>\n",
       "<style scoped>\n",
       "    .dataframe tbody tr th:only-of-type {\n",
       "        vertical-align: middle;\n",
       "    }\n",
       "\n",
       "    .dataframe tbody tr th {\n",
       "        vertical-align: top;\n",
       "    }\n",
       "\n",
       "    .dataframe thead th {\n",
       "        text-align: right;\n",
       "    }\n",
       "</style>\n",
       "<table border=\"1\" class=\"dataframe\">\n",
       "  <thead>\n",
       "    <tr style=\"text-align: right;\">\n",
       "      <th></th>\n",
       "      <th>YM</th>\n",
       "      <th>monthNumber</th>\n",
       "      <th>TAVG_Celsius</th>\n",
       "      <th>avgTempsC</th>\n",
       "      <th>month</th>\n",
       "      <th>Diff</th>\n",
       "    </tr>\n",
       "  </thead>\n",
       "  <tbody>\n",
       "    <tr>\n",
       "      <td>0</td>\n",
       "      <td>195201</td>\n",
       "      <td>01</td>\n",
       "      <td>-1.400966</td>\n",
       "      <td>-5.877342</td>\n",
       "      <td>January</td>\n",
       "      <td>4.476376</td>\n",
       "    </tr>\n",
       "    <tr>\n",
       "      <td>1</td>\n",
       "      <td>195202</td>\n",
       "      <td>02</td>\n",
       "      <td>-4.000000</td>\n",
       "      <td>-6.990482</td>\n",
       "      <td>February</td>\n",
       "      <td>2.990482</td>\n",
       "    </tr>\n",
       "    <tr>\n",
       "      <td>2</td>\n",
       "      <td>195203</td>\n",
       "      <td>03</td>\n",
       "      <td>-10.106838</td>\n",
       "      <td>-3.841270</td>\n",
       "      <td>March</td>\n",
       "      <td>-6.265568</td>\n",
       "    </tr>\n",
       "    <tr>\n",
       "      <td>3</td>\n",
       "      <td>195204</td>\n",
       "      <td>04</td>\n",
       "      <td>4.226190</td>\n",
       "      <td>2.427875</td>\n",
       "      <td>April</td>\n",
       "      <td>1.798315</td>\n",
       "    </tr>\n",
       "    <tr>\n",
       "      <td>4</td>\n",
       "      <td>195205</td>\n",
       "      <td>05</td>\n",
       "      <td>7.037037</td>\n",
       "      <td>9.522613</td>\n",
       "      <td>May</td>\n",
       "      <td>-2.485576</td>\n",
       "    </tr>\n",
       "  </tbody>\n",
       "</table>\n",
       "</div>"
      ],
      "text/plain": [
       "       YM monthNumber  TAVG_Celsius  avgTempsC     month      Diff\n",
       "0  195201          01     -1.400966  -5.877342   January  4.476376\n",
       "1  195202          02     -4.000000  -6.990482  February  2.990482\n",
       "2  195203          03    -10.106838  -3.841270     March -6.265568\n",
       "3  195204          04      4.226190   2.427875     April  1.798315\n",
       "4  195205          05      7.037037   9.522613       May -2.485576"
      ]
     },
     "execution_count": 32,
     "metadata": {},
     "output_type": "execute_result"
    }
   ],
   "source": [
    "monthlyData.head()\n",
    "# monthlyData.columns"
   ]
  },
  {
   "cell_type": "code",
   "execution_count": null,
   "metadata": {},
   "outputs": [],
   "source": []
  },
  {
   "cell_type": "markdown",
   "metadata": {},
   "source": [
    "### <i>Let's filter the data to be only between 1952 and 1980...</i>"
   ]
  },
  {
   "cell_type": "markdown",
   "metadata": {},
   "source": [
    "Now we can see that we have a new dataframe called 'reference_month', a new object called grouped with type **`DataFrameGroupBy`**. it contains 12 individual groups in the data. <b>One group for each month</b>\n",
    "\n",
    "Let's see what we have on month grouped variable. on the first month **`01`**. we can get the value of the month from the **`DataFrameGroupBy`** -object with **`get_group()`** function"
   ]
  },
  {
   "cell_type": "markdown",
   "metadata": {},
   "source": [
    "Great... we can see that a single group contains a <b>DataFrame</b> with values only for a specific month. now we can calculate the average values for all weather mesurenments (+ month) that we have\n",
    "\n",
    "Let's caluclate all the mean values for all the groups (1 months per group) for all those weather attributes that we were interested that are between 1952 and 1980."
   ]
  },
  {
   "cell_type": "code",
   "execution_count": 31,
   "metadata": {
    "scrolled": true
   },
   "outputs": [
    {
     "name": "stdout",
     "output_type": "stream",
     "text": [
      "YM               object\n",
      "monthNumber      object\n",
      "TAVG_Celsius    float64\n",
      "avgTempsC       float64\n",
      "month            object\n",
      "Diff            float64\n",
      "dtype: object\n",
      "\n",
      " Series([], dtype: object)\n"
     ]
    }
   ],
   "source": [
    "# lets print a sample of both dataframes\n",
    "print((monthlyData.dtypes))\n",
    "\n",
    "print('\\n', reference_temps.dtypes)"
   ]
  },
  {
   "cell_type": "markdown",
   "metadata": {
    "deletable": false,
    "editable": false,
    "nbgrader": {
     "checksum": "16c5c0628a4fa8da0187976d20c2cd08",
     "grade": false,
     "grade_id": "cell-875dcc18eb6ab590",
     "locked": true,
     "schema_version": 1,
     "solution": false
    }
   },
   "source": [
    "- What is the highest value in `Diff` column?\n",
    "   - Print the answer in the cell below"
   ]
  },
  {
   "cell_type": "code",
   "execution_count": null,
   "metadata": {
    "deletable": false,
    "editable": false,
    "nbgrader": {
     "checksum": "2eb441db9b1d7520a8f6a4b309ebf006",
     "grade": true,
     "grade_id": "temperature_anomaly_tests",
     "locked": true,
     "points": 7.5,
     "schema_version": 1,
     "solution": false
    }
   },
   "outputs": [],
   "source": []
  },
  {
   "cell_type": "markdown",
   "metadata": {
    "deletable": false,
    "editable": false,
    "nbgrader": {
     "checksum": "aafbde2279f53b7b9b6cbd8e8b555551",
     "grade": false,
     "grade_id": "cell-99d62d1b7e475fd6",
     "locked": true,
     "schema_version": 1,
     "solution": false
    }
   },
   "source": [
    "#### Done!\n",
    "\n",
    "That's it. Now you are ready with Problems 1-3. If you want, you can still continue with an optional [Problem 4.](Exercise-6-problem-4.ipynb)"
   ]
  }
 ],
 "metadata": {
  "kernelspec": {
   "display_name": "Python 3",
   "language": "python",
   "name": "python3"
  },
  "language_info": {
   "codemirror_mode": {
    "name": "ipython",
    "version": 3
   },
   "file_extension": ".py",
   "mimetype": "text/x-python",
   "name": "python",
   "nbconvert_exporter": "python",
   "pygments_lexer": "ipython3",
   "version": "3.6.9"
  }
 },
 "nbformat": 4,
 "nbformat_minor": 4
}
